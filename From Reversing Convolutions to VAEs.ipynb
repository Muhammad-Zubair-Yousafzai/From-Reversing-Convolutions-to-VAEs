{
  "metadata": {
    "kernelspec": {
      "name": "python3",
      "display_name": "Python 3",
      "language": "python"
    },
    "language_info": {
      "name": "python",
      "version": "3.10.13",
      "mimetype": "text/x-python",
      "codemirror_mode": {
        "name": "ipython",
        "version": 3
      },
      "pygments_lexer": "ipython3",
      "nbconvert_exporter": "python",
      "file_extension": ".py"
    },
    "kaggle": {
      "accelerator": "nvidiaTeslaT4",
      "dataSources": [],
      "dockerImageVersionId": 30699,
      "isInternetEnabled": true,
      "language": "python",
      "sourceType": "notebook",
      "isGpuEnabled": true
    },
    "colab": {
      "name": "Assignment_4_final",
      "provenance": []
    }
  },
  "nbformat_minor": 0,
  "nbformat": 4,
  "cells": [
    {
      "cell_type": "markdown",
      "source": [
        "# From Reversing Convolutions to VAEs"
      ],
      "metadata": {
        "_uuid": "bceeda87-9f91-4e10-8191-718329013507",
        "_cell_guid": "8e624d8c-142a-4a9f-94cf-d99472e9e4b9",
        "trusted": true,
        "id": "iMKCO1Tvf5SR"
      }
    },
    {
      "cell_type": "markdown",
      "source": [
        "This notebook contains Tasks for the exercises in Deep Learning and Neural Nets 2."
      ],
      "metadata": {
        "_uuid": "abce4798-b81e-473e-85f5-5919f5e3ee00",
        "_cell_guid": "a2f6669f-5f47-4708-907a-7391ba210f6b",
        "trusted": true,
        "id": "X7LlXUUWf5SW"
      }
    },
    {
      "cell_type": "markdown",
      "source": [
        "In this Task, we will tackle the topic of auto-encoders,\n",
        "a simple trick to use neural networks for unsupervised learning.\n",
        "Whereas auto-encoders with fully connected layers are pretty simple,\n",
        "new types of layers are necessary to build convolutional auto-encoders.\n",
        "The most important of these new layers is the transposed convolution,\n",
        "which is often confusingly referred to as a deconvolution.\n",
        "Finally, we turn auto-encoders into generative models with some clever tricks."
      ],
      "metadata": {
        "_uuid": "12efdbdb-fae6-425a-8c90-a6b48ee38dd0",
        "_cell_guid": "f84e713e-c499-4a0a-949d-6317ac113111",
        "trusted": true,
        "id": "Y6B3tCZZf5SX"
      }
    },
    {
      "cell_type": "code",
      "source": [
        "import os.path\n",
        "import inspect\n",
        "import torch\n",
        "from torch import nn\n",
        "from torch import optim\n",
        "from torch.utils.data import DataLoader\n",
        "from torchvision import transforms\n",
        "from torchvision import datasets\n",
        "from torchvision import models\n",
        "import torch.nn.functional as F\n",
        "\n",
        "\n",
        "from PIL import Image\n",
        "from IPython.display import display\n",
        "from torchvision.transforms.functional import to_pil_image\n",
        "\n",
        "torch.manual_seed(1806)\n",
        "torch.cuda.manual_seed(1806)\n",
        "device = 'cuda' if torch.cuda.is_available() else 'cpu'\n",
        "print(device)"
      ],
      "metadata": {
        "_uuid": "ef0cdae1-b170-4dcb-8eb1-31dae8109084",
        "_cell_guid": "ca2fc3cf-86a2-40d8-883f-854fd0f46374",
        "pycharm": {
          "name": "#%%\n"
        },
        "jupyter": {
          "outputs_hidden": false
        },
        "execution": {
          "iopub.status.busy": "2024-04-27T21:02:45.990654Z",
          "iopub.execute_input": "2024-04-27T21:02:45.991338Z",
          "iopub.status.idle": "2024-04-27T21:02:52.206069Z",
          "shell.execute_reply.started": "2024-04-27T21:02:45.991305Z",
          "shell.execute_reply": "2024-04-27T21:02:52.205128Z"
        },
        "trusted": true,
        "id": "ceRXwoCIf5SZ",
        "outputId": "d80ae7fd-3d5b-400e-e93a-5d2cd3e43dba"
      },
      "execution_count": null,
      "outputs": [
        {
          "name": "stdout",
          "text": "cuda\n",
          "output_type": "stream"
        }
      ]
    },
    {
      "cell_type": "code",
      "source": [
        "# google colab data management\n",
        "import os.path\n",
        "\n",
        "try:\n",
        "    from google.colab import drive\n",
        "    drive.mount('/content/gdrive')\n",
        "    _home = 'gdrive/MyDrive/'\n",
        "except ImportError:\n",
        "    _home = '~'\n",
        "finally:\n",
        "    data_root = os.path.join(_home, '.pytorch')\n",
        "\n",
        "print(data_root)"
      ],
      "metadata": {
        "_uuid": "ef1b7937-ba21-40e7-a30e-842be957a029",
        "_cell_guid": "c049d5c6-655d-4d79-ada9-dbb5555853c2",
        "pycharm": {
          "name": "#%%\n"
        },
        "jupyter": {
          "outputs_hidden": false
        },
        "execution": {
          "iopub.status.busy": "2024-04-27T21:02:52.207837Z",
          "iopub.execute_input": "2024-04-27T21:02:52.20823Z",
          "iopub.status.idle": "2024-04-27T21:02:52.214396Z",
          "shell.execute_reply.started": "2024-04-27T21:02:52.208204Z",
          "shell.execute_reply": "2024-04-27T21:02:52.213378Z"
        },
        "trusted": true,
        "id": "p4c-DJ8Jf5Sn",
        "outputId": "1b3689d0-9561-4e3e-9e6a-9a2ed378d71e"
      },
      "execution_count": null,
      "outputs": [
        {
          "name": "stdout",
          "text": "~/.pytorch\n",
          "output_type": "stream"
        }
      ]
    },
    {
      "cell_type": "code",
      "source": [
        "class AutoMNIST(datasets.MNIST):\n",
        "    \"\"\" Wrapper around MNIST for training auto-encoders. \"\"\"\n",
        "\n",
        "    def __getitem__(self, index):\n",
        "        x = self.data[index].numpy()\n",
        "        img = Image.fromarray(x, mode='L')\n",
        "        target = Image.fromarray(x, mode='L')\n",
        "\n",
        "        if self.transform is not None:\n",
        "            img = self.transform(img)\n",
        "\n",
        "        if self.target_transform is not None:\n",
        "            target = self.target_transform(target)\n",
        "\n",
        "        return img, target\n",
        "\n",
        "    @property\n",
        "    def raw_folder(self):\n",
        "        return os.path.join(self.root, 'MNIST', 'raw')\n",
        "\n",
        "    @property\n",
        "    def processed_folder(self):\n",
        "        return os.path.join(self.root, 'MNIST', 'processed')"
      ],
      "metadata": {
        "_uuid": "a185e8e4-373a-4d04-8464-96f403177deb",
        "_cell_guid": "a858de46-2f7e-43f3-8390-9bf85e29cd01",
        "pycharm": {
          "name": "#%%\n"
        },
        "jupyter": {
          "outputs_hidden": false
        },
        "execution": {
          "iopub.status.busy": "2024-04-27T21:02:52.215663Z",
          "iopub.execute_input": "2024-04-27T21:02:52.216283Z",
          "iopub.status.idle": "2024-04-27T21:02:52.226094Z",
          "shell.execute_reply.started": "2024-04-27T21:02:52.216248Z",
          "shell.execute_reply": "2024-04-27T21:02:52.225106Z"
        },
        "trusted": true,
        "id": "qA1KEuU7f5So"
      },
      "execution_count": null,
      "outputs": []
    },
    {
      "cell_type": "code",
      "source": [
        "def download_image_data(url: str, md5: str = None, size: int = 224):\n",
        "    \"\"\"\n",
        "    Download and pre-process some image for AlexNet.\n",
        "\n",
        "    Parameters\n",
        "    ----------\n",
        "    url : str\n",
        "        URL to the image.\n",
        "    md5 : str, optional\n",
        "        MD5 checksum of the image.\n",
        "    size : int, optional\n",
        "        Expected size for the image after cropping.\n",
        "\n",
        "    Returns\n",
        "    -------\n",
        "    x : (1, 3, size, size) torch.Tensor\n",
        "        Ready-to-predict image.\n",
        "    \"\"\"\n",
        "    from torchvision.datasets.utils import download_url\n",
        "    path = os.path.expanduser(data_root)\n",
        "    download_url(url, path, md5=md5)\n",
        "    file_name = url.rsplit('/', maxsplit=1)[-1]\n",
        "    im = Image.open(os.path.join(path, file_name))\n",
        "    # constants taken from torchvision.models docs\n",
        "    normalise = transforms.Compose([\n",
        "        transforms.RandomCrop(size=size),\n",
        "        transforms.ToTensor(),\n",
        "        transforms.Normalize((.485, .456, .406), (.229, .224, .225))\n",
        "    ])\n",
        "    return normalise(im).unsqueeze(0)"
      ],
      "metadata": {
        "_uuid": "ecd8bf9c-722f-4461-906e-985e1c3dd54b",
        "_cell_guid": "29ecaae3-4fc8-42f3-8a58-7c98f3f90f01",
        "pycharm": {
          "name": "#%%\n"
        },
        "tags": [],
        "jupyter": {
          "outputs_hidden": false
        },
        "execution": {
          "iopub.status.busy": "2024-04-27T21:02:52.228743Z",
          "iopub.execute_input": "2024-04-27T21:02:52.229082Z",
          "iopub.status.idle": "2024-04-27T21:02:52.236813Z",
          "shell.execute_reply.started": "2024-04-27T21:02:52.229051Z",
          "shell.execute_reply": "2024-04-27T21:02:52.235793Z"
        },
        "trusted": true,
        "id": "cIIYu71lf5Sq"
      },
      "execution_count": null,
      "outputs": []
    },
    {
      "cell_type": "code",
      "source": [
        "def data_to_image(*data: torch.Tensor,\n",
        "                  means: tuple = (0, ), stds: tuple = (1., )) -> Image:\n",
        "    \"\"\"\n",
        "    Convert multiple tensors to one big image.\n",
        "\n",
        "    Parameters\n",
        "    ----------\n",
        "    data0, data1, ... dataN : torch.Tensor\n",
        "        One or more tensors to be merged into a single image.\n",
        "    means : tuple or torch.Tensor, optional\n",
        "        Original mean of the image before normalisation.\n",
        "    stds : tuple or torch.Tensor, optional\n",
        "        Original standard deviation of the image before normalisation.\n",
        "\n",
        "    Returns\n",
        "    -------\n",
        "    image : Image\n",
        "        PIL image with all of the tensors next to each other.\n",
        "    \"\"\"\n",
        "    # concatenate all data\n",
        "    big_pic = torch.cat([x for x in data], dim=-1)\n",
        "\n",
        "    means = torch.tensor(means)\n",
        "    stds = torch.tensor(stds)\n",
        "    to_image = transforms.Compose([\n",
        "        # inverts normalisation of image\n",
        "        transforms.Normalize(-means / stds, 1. / stds),\n",
        "        transforms.Lambda(lambda x: torch.clamp(x, 0, 1)),\n",
        "        transforms.ToPILImage()\n",
        "    ])\n",
        "\n",
        "    return to_image(big_pic)"
      ],
      "metadata": {
        "_uuid": "d5ff17c6-e23a-448a-86e6-97ceb13b3440",
        "_cell_guid": "4a3bc169-9bd1-4e03-9ebd-1c0575b57461",
        "pycharm": {
          "name": "#%%\n"
        },
        "jupyter": {
          "outputs_hidden": false
        },
        "execution": {
          "iopub.status.busy": "2024-04-27T21:02:52.237947Z",
          "iopub.execute_input": "2024-04-27T21:02:52.238233Z",
          "iopub.status.idle": "2024-04-27T21:02:52.249652Z",
          "shell.execute_reply.started": "2024-04-27T21:02:52.23821Z",
          "shell.execute_reply": "2024-04-27T21:02:52.248808Z"
        },
        "trusted": true,
        "id": "cV0fwNtpf5St"
      },
      "execution_count": null,
      "outputs": []
    },
    {
      "cell_type": "code",
      "source": [
        "class RegularisedLoss(nn.Module):\n",
        "    \"\"\"\n",
        "    Loss function for networks that expose state for regularisation.\n",
        "\n",
        "    Examples\n",
        "    --------\n",
        "    To train an auto-encoder with some norm-regularisation (untested):\n",
        "    >>> ae = AutoEncoder(784)\n",
        "    >>> mse = RegularisedLoss(nn.MSELoss(), torch.norm)\n",
        "    >>> x = torch.randn(1, 784)\n",
        "    >>> logits, code = ae.forward(x)\n",
        "    >>> mse((logits, code), x)\n",
        "    \"\"\"\n",
        "\n",
        "    def __init__(self, loss_func: nn.Module = None, reg_func: nn.Module = None,\n",
        "                 weight: float = 1.):\n",
        "        \"\"\"\n",
        "        Parameters\n",
        "        ----------\n",
        "        loss_func : nn.Module\n",
        "            Standard loss function computed from logits and targets.\n",
        "        reg_func : nn.Module, optional\n",
        "            Regularisation function computed from exposed network state.\n",
        "        weight : float, optional\n",
        "            Weighting factor for the regularisation.\n",
        "        \"\"\"\n",
        "        super().__init__()\n",
        "        self.loss_func = loss_func\n",
        "        self.regulariser = reg_func\n",
        "        self.weight = weight\n",
        "        self._regularisation_cache = []\n",
        "\n",
        "    def split_loss(self, total_loss):\n",
        "        \"\"\"\n",
        "        Split total loss values in original loss and regularisation part.\n",
        "\n",
        "        Parameters\n",
        "        ----------\n",
        "        total_loss : list or float\n",
        "            One or more loss values computed with this function.\n",
        "\n",
        "        Returns\n",
        "        -------\n",
        "        orig_loss : Tensor\n",
        "            One ore more loss values from the original part of the loss.\n",
        "        reg_loss : Tensor\n",
        "            One or more loss values from the regularsiation part of the loss.\n",
        "        \"\"\"\n",
        "        if len(self._regularisation_cache) == 0:\n",
        "            raise ValueError(\"no regularisation loss yet, make sure to call forward first\")\n",
        "\n",
        "        _totals = torch.tensor(total_loss)\n",
        "        reg_loss = torch.tensor(self._regularisation_cache[-_totals.numel():])\n",
        "        orig_loss = _totals - self.weight * reg_loss\n",
        "        return orig_loss, reg_loss\n",
        "\n",
        "    def forward(self, outputs, y):\n",
        "        \"\"\"\n",
        "        Parameters\n",
        "        ----------\n",
        "        outputs : (Tensor, Tensor)\n",
        "            Tuple consisting of logits and exposed state.\n",
        "        y : Tensor\n",
        "            Targets for the original loss part.\n",
        "        \"\"\"\n",
        "        logits, state = outputs\n",
        "        loss = self.loss_func(logits, y)\n",
        "\n",
        "        if self.regulariser is not None:\n",
        "            reg_loss = self.regulariser(state)\n",
        "            self._regularisation_cache.append(reg_loss.item())\n",
        "            loss = loss + self.weight * reg_loss\n",
        "\n",
        "        return loss"
      ],
      "metadata": {
        "_uuid": "487b8169-bf4a-4686-987b-f80c378841ea",
        "_cell_guid": "fb35f841-3f1e-4ebd-b9af-5eef3de313c5",
        "jupyter": {
          "outputs_hidden": false
        },
        "execution": {
          "iopub.status.busy": "2024-04-27T21:02:52.251187Z",
          "iopub.execute_input": "2024-04-27T21:02:52.251536Z",
          "iopub.status.idle": "2024-04-27T21:02:52.261925Z",
          "shell.execute_reply.started": "2024-04-27T21:02:52.251506Z",
          "shell.execute_reply": "2024-04-27T21:02:52.261029Z"
        },
        "trusted": true,
        "id": "xSI99_Kaf5Sv"
      },
      "execution_count": null,
      "outputs": []
    },
    {
      "cell_type": "code",
      "source": [
        "class AutoEncoderTrainer:\n",
        "\n",
        "    def __init__(self,\n",
        "         model: nn.Module,\n",
        "         criterion: nn.Module,\n",
        "         optimiser: optim.Optimizer,\n",
        "    ):\n",
        "        \"\"\"\n",
        "        Parameters\n",
        "        ----------\n",
        "        model : torch.nn.Module\n",
        "            Neural Network that will be trained.\n",
        "        criterion : torch.nn.Module\n",
        "            Loss function to use for training.\n",
        "        optimiser : torch.optim.Optimizer\n",
        "            Optimisation strategy for training.\n",
        "        tracker : Tracker, optional\n",
        "            Tracker to keep track of training progress.\n",
        "        \"\"\"\n",
        "        self.model = model\n",
        "        self.criterion = criterion\n",
        "        self.optimiser = optimiser\n",
        "\n",
        "\n",
        "    def state_dict(self):\n",
        "        \"\"\" Current state of learning. \"\"\"\n",
        "        return {\n",
        "            \"model\": self.model.state_dict(),\n",
        "            \"objective\": self.criterion.state_dict(),\n",
        "            \"optimiser\": self.optimiser.state_dict(),\n",
        "        }\n",
        "\n",
        "    @property\n",
        "    def device(self):\n",
        "        \"\"\" Device of the (first) model parameters. \"\"\"\n",
        "        return next(self.model.parameters()).device\n",
        "\n",
        "    def _forward(self, data: DataLoader, metric: callable):\n",
        "        device = self.device\n",
        "\n",
        "        for x, y in data:\n",
        "            x, y = x.to(device), y.to(device)\n",
        "            logits = self.model(x)\n",
        "            res = metric(logits, y)\n",
        "            yield res\n",
        "\n",
        "\n",
        "    @torch.no_grad()\n",
        "    def evaluate(self, data: DataLoader, metric: callable) -> list:\n",
        "        self.model.eval()\n",
        "        losses = [res.item() for res in self._forward(data, metric)]\n",
        "        return losses\n",
        "\n",
        "\n",
        "    @torch.enable_grad()\n",
        "    def update(self, data: DataLoader) -> list:\n",
        "        opt = self.optimiser\n",
        "        self.model.train()\n",
        "\n",
        "        errs = []\n",
        "        for err in self._forward(data, self.criterion):\n",
        "            errs.append(err.item())\n",
        "\n",
        "            opt.zero_grad()\n",
        "            err.backward()\n",
        "            opt.step()\n",
        "\n",
        "        return errs\n",
        "\n",
        "    def _print_errs(self, epoch: int, errs : list):\n",
        "        \"\"\"\n",
        "        Print error summary for current epoch.\n",
        "\n",
        "        If possible, the loss is additionally decomposed in\n",
        "        reconstruction and regularisation loss.\n",
        "\n",
        "        Parameters\n",
        "        ----------\n",
        "        epoch : int\n",
        "            Rank of the current epoch.\n",
        "        errs : list\n",
        "            The errors to summarise.\n",
        "        \"\"\"\n",
        "        print(f\"Epoch {epoch: 2d} - avg loss: {sum(errs) / len(errs):.6f}\", end=' ')\n",
        "        try:\n",
        "            rec_errs, reg_errs = self.criterion.split_loss(errs)\n",
        "            print(f\"(rec: {sum(rec_errs) / len(errs):.4f}, reg: {sum(reg_errs) / len(errs):.4f})\")\n",
        "        except (AttributeError, ValueError):\n",
        "            print()\n",
        "\n",
        "\n",
        "    def _display_result(self, xs: torch.Tensor, count: int = 10):\n",
        "        \"\"\"\n",
        "        Visualise a number of reconstructions from an auto-encoder.\n",
        "\n",
        "        Parameters\n",
        "        ----------\n",
        "        xs : torch.Tensor\n",
        "            Batch of images to be reconstructed.\n",
        "            The batch is assumed to have the correct shape\n",
        "            for feeding it to the network.\n",
        "        count : int, optional\n",
        "            Number of samples in the batch to visualise.\n",
        "\n",
        "        \"\"\"\n",
        "        xs = xs[:count]\n",
        "        # get reconstructions\n",
        "        preds = self.model.reconstruct(xs.to(self.device)).cpu()\n",
        "\n",
        "        # convert to images\n",
        "        xs = xs.view(-1, 1, 28, 28)  # unflatten\n",
        "        x_im = data_to_image(*xs, means=(.1307, ), stds=(.3081, ))\n",
        "        preds = preds.view(-1, 1, 28, 28)\n",
        "        res_im = data_to_image(*preds)\n",
        "\n",
        "        # paste together\n",
        "        im = Image.new('L', (len(xs) * 28, 56))\n",
        "        im.paste(x_im, (0, 0))\n",
        "        im.paste(res_im, (0, 28))\n",
        "        display(im, metadata={'width': '100%'})\n",
        "\n",
        "\n",
        "    def train(self, loader: DataLoader, num_epochs: int = 10, vis_every: int = 5):\n",
        "        \"\"\"\n",
        "        Train an auto-encoder for a number of epochs.\n",
        "\n",
        "        Parameters\n",
        "        ----------\n",
        "        loader : DataLoader\n",
        "            A data loader for iterating over batches of the data.\n",
        "        num_epochs : int, optional\n",
        "            Number of times to iterate the dataset.\n",
        "        vis_every : int, optional\n",
        "            Frequency, during training, of\n",
        "            intermediate visualisation of reconstructions.\n",
        "        \"\"\"\n",
        "        # take random batch for visualising reconstructions\n",
        "        ref_inputs, _ = next(iter(loader))\n",
        "\n",
        "        # evaluate random performance\n",
        "        errs = self.evaluate(loader, self.criterion)\n",
        "        self._print_errs(0, errs)\n",
        "        self._display_result(ref_inputs)\n",
        "\n",
        "        # train for some epochs\n",
        "        for epoch in range(1, num_epochs + 1):\n",
        "            errs = self.update(loader)\n",
        "            self._print_errs(0, errs)\n",
        "\n",
        "            if epoch % vis_every == 0:\n",
        "                self._display_result(ref_inputs)"
      ],
      "metadata": {
        "_uuid": "af4b6e6e-cb0e-42bf-9955-99674c91de1b",
        "_cell_guid": "0ecb3b63-7f1a-4361-bc40-ee78e6904854",
        "pycharm": {
          "name": "#%%\n"
        },
        "jupyter": {
          "outputs_hidden": false
        },
        "execution": {
          "iopub.status.busy": "2024-04-27T21:02:52.262967Z",
          "iopub.execute_input": "2024-04-27T21:02:52.263226Z",
          "iopub.status.idle": "2024-04-27T21:02:52.285924Z",
          "shell.execute_reply.started": "2024-04-27T21:02:52.263203Z",
          "shell.execute_reply": "2024-04-27T21:02:52.285099Z"
        },
        "trusted": true,
        "id": "pzuqHVXqf5Sw"
      },
      "execution_count": null,
      "outputs": []
    },
    {
      "cell_type": "markdown",
      "source": [
        "## Auto-Encoders\n",
        "\n",
        "An easy way to use supervised models in an unsupervised setting\n",
        "is to invent a prediction task that only requires the inputs.\n",
        "The most straightforward approach to this paradigm is to learn the identity function.\n",
        "It is trivial to find a network that solves this task perfectly (linear regression).\n",
        "In order to get more interesting models,\n",
        "it is therefore important to make it slightly harder for the network to learn the identity.\n",
        "\n",
        "The auto-encoder is a neural network architecture for learning these identity functions.\n",
        "In general, auto-encoders consist of two parts:\n",
        "the first part is the **encoder**, which maps the inputs to some *code*\n",
        "and the second part is the **decoder**, which maps this code back to the inputs.\n",
        "This setup is especially interesting when the code is much smaller than the input.\n",
        "In this case, the code forms a bottleneck for the information flow,\n",
        "and the network must learn to compress the information in the inputs to get good reconstructions.\n",
        "This effectively allows to learn a lossy compression scheme where\n",
        "the encoder can be used to compress the inputs and the decoder is used for decompression.\n",
        "\n",
        "Typically, encoder and decoder will have some sort of symmetry in their architecture.\n",
        "In fully-connected models, this symmetry can be obtained by transposing the weight matrices.\n",
        "Convolutional layers can be transposed as well, although that might not be as obvious.\n",
        "Note that we are only talking about the architecture, i.e. the shape of the weight matrices,\n",
        "and not about the weights, which are typically **not shared** between encoder and decoder."
      ],
      "metadata": {
        "_uuid": "6337d69a-3d1d-4087-a001-cc3f0e408eeb",
        "_cell_guid": "4fce7ea1-3a7a-458a-ac1d-2258bb53a4f9",
        "pycharm": {
          "name": "#%% md\n"
        },
        "tags": [],
        "trusted": true,
        "id": "GsCMxbr8f5Sz"
      }
    },
    {
      "cell_type": "markdown",
      "source": [
        "<div style=\"text-align: center\">\n",
        "  <figure style=\"display: inline-block; width: 49%; margin: 0\">\n",
        "    <img src=\"https://raw.githubusercontent.com/vdumoulin/conv_arithmetic/master/gif/no_padding_no_strides.gif\" />\n",
        "    <figcaption style=\"width: 100%;\"> Normal convolution </figcaption>\n",
        "  </figure>\n",
        "  <figure style=\"display: inline-block; width: 49%; margin: 0\">\n",
        "    <img src=\"https://raw.githubusercontent.com/vdumoulin/conv_arithmetic/master/gif/no_padding_no_strides_transposed.gif\" />\n",
        "    <figcaption style=\"width: 100%; text-align: center;\"> Transposed convolution </figcaption>\n",
        "  </figure>\n",
        "</div>\n",
        "\n"
      ],
      "metadata": {
        "_uuid": "63547053-85fe-4710-8444-9d2a3bd7f522",
        "_cell_guid": "c55643aa-bb15-4b67-806a-7feca165a5b4",
        "pycharm": {
          "name": "#%% md\n"
        },
        "trusted": true,
        "id": "OkPufggtf5S0"
      }
    },
    {
      "cell_type": "markdown",
      "source": [
        "### Exercise 1: Transposed Convolutions\n",
        "Although the transpose of a matrix is typically not its inverse,\n",
        "it can be interpreted as a way to *undo* a matrix multiplication.\n",
        "This is especially true for fully connected layers,\n",
        "where we find the tranpose of the weight matrix in the backward pass.\n",
        "Using this analogy, we can find a transposed convolution\n",
        "by taking the operation we find in the backward pass of a conv layer.\n",
        "\n",
        "To get a feeling for how transposed convolutions can *undo* convolutions,\n",
        "we are going to be implementing a method from Zeiler and Fergus (from ZF net).\n",
        "They used transposed convolutions to visualise activations in the input space.\n",
        "However, we will also need to undo max-pooling layers and ReLU non-linearities.\n",
        "Therefore, we first focus on how to undo different kinds of layers.\n",
        "An example of how to undo a ReLU non-linearity is provided in `UndoableReLU`.\n",
        "\n",
        " > Implement the `undo` methods of the `UndoableMaxPool2d` and `UndoableConv2d` classes below.\n",
        " > As the title suggests, convolutions can be undone by transposed convolutions.\n",
        " > Pooling operations can generally be undone by upsampling operations.\n",
        " > However, for max-pooling, we can get better results\n",
        " > if we keep track of the indices in the original inputs.\n",
        " > Do not forget about the different parameters!"
      ],
      "metadata": {
        "_uuid": "9e39484c-54d0-4646-a7e6-018665c58091",
        "_cell_guid": "91794f37-687a-476f-b2ad-6a0d8f9ae76e",
        "pycharm": {
          "name": "#%% md\n"
        },
        "tags": [],
        "trusted": true,
        "id": "lowyjsWqf5S2"
      }
    },
    {
      "cell_type": "markdown",
      "source": [
        "#Solution"
      ],
      "metadata": {
        "id": "FCIQuIIlg9o9"
      }
    },
    {
      "cell_type": "code",
      "source": [
        "class UndoableReLU(nn.Module):\n",
        "    \"\"\"\n",
        "    Wrapper around a relu layer that adds 'undo' functionality.\n",
        "    \"\"\"\n",
        "\n",
        "    def __init__(self, module: nn.ReLU):\n",
        "        super().__init__()\n",
        "        self.original = module\n",
        "\n",
        "    def forward(self, s: torch.Tensor):\n",
        "        return torch.relu(s), None\n",
        "\n",
        "    @torch.no_grad()\n",
        "    def undo(self, a: torch.Tensor, context):\n",
        "        return torch.relu(a)"
      ],
      "metadata": {
        "_uuid": "3d54d4d4-f429-4975-9737-a25f76fcd620",
        "_cell_guid": "9441ac16-a51e-406d-a9e1-8cfa721e63cc",
        "deletable": false,
        "nbgrader": {
          "cell_type": "code",
          "checksum": "cfaf2c9aaa77b57fc6198f3ebbb2f15a",
          "grade": false,
          "grade_id": "cell-628cae5c125d2303",
          "locked": true,
          "schema_version": 3,
          "solution": false,
          "task": false
        },
        "tags": [],
        "jupyter": {
          "outputs_hidden": false
        },
        "execution": {
          "iopub.status.busy": "2024-04-27T21:02:52.286963Z",
          "iopub.execute_input": "2024-04-27T21:02:52.287367Z",
          "iopub.status.idle": "2024-04-27T21:02:52.29917Z",
          "shell.execute_reply.started": "2024-04-27T21:02:52.287342Z",
          "shell.execute_reply": "2024-04-27T21:02:52.298364Z"
        },
        "trusted": true,
        "id": "MllVf3pOf5S2"
      },
      "execution_count": null,
      "outputs": []
    },
    {
      "cell_type": "code",
      "source": [
        "class UndoableMaxPool2d(nn.Module):\n",
        "    \"\"\"\n",
        "    Wrapper around a max-pooling layer that adds 'undo' functionality.\n",
        "    \"\"\"\n",
        "\n",
        "    def __init__(self, module: nn.MaxPool2d):\n",
        "        super().__init__()\n",
        "        self.original = module\n",
        "\n",
        "    @property\n",
        "    def kwargs(self):\n",
        "        return {\n",
        "            k: getattr(self.original, k)\n",
        "            for k in (\"kernel_size\", \"stride\", \"padding\")\n",
        "        }\n",
        "\n",
        "    def forward(self, x: torch.Tensor):\n",
        "        out, indices = nn.functional.max_pool2d(x, return_indices=True, **self.kwargs)\n",
        "        return out, (indices, x.shape[-2:])\n",
        "\n",
        "    @torch.no_grad()\n",
        "    def undo(self, y: torch.Tensor, context):\n",
        "        \"\"\"\n",
        "        Undo the operation from the forward pass.\n",
        "\n",
        "        Parameters\n",
        "        ----------\n",
        "        y : torch.Tensor\n",
        "            Data with same shape as the output of the original module.\n",
        "        context\n",
        "            Additional information to correctly undo the forward operation.\n",
        "            This is typically the second term in the output of `forward`.\n",
        "        \"\"\"\n",
        "        indices, input_shape = context\n",
        "        return F.max_unpool2d(y, indices, **self.kwargs, output_size=input_shape)"
      ],
      "metadata": {
        "_uuid": "4e2f136b-c3f1-4eb5-b8f3-5c32951a1559",
        "_cell_guid": "208184ff-6336-41b7-a2ba-9ca0a8fc46a2",
        "deletable": false,
        "nbgrader": {
          "cell_type": "code",
          "checksum": "d0fbca9652f4f6b14229a224b1e759af",
          "grade": false,
          "grade_id": "cell-1fb1254336e8ab34",
          "locked": false,
          "schema_version": 3,
          "solution": true,
          "task": false
        },
        "tags": [],
        "jupyter": {
          "outputs_hidden": false
        },
        "execution": {
          "iopub.status.busy": "2024-04-27T21:02:52.300371Z",
          "iopub.execute_input": "2024-04-27T21:02:52.300718Z",
          "iopub.status.idle": "2024-04-27T21:02:52.313865Z",
          "shell.execute_reply.started": "2024-04-27T21:02:52.300689Z",
          "shell.execute_reply": "2024-04-27T21:02:52.313028Z"
        },
        "trusted": true,
        "id": "8QdMcvoSf5TB"
      },
      "execution_count": null,
      "outputs": []
    },
    {
      "cell_type": "code",
      "source": [
        "x = torch.ones(1, 3, 32, 32)\n",
        "pool = nn.MaxPool2d(kernel_size=2)\n",
        "wrapped = UndoableMaxPool2d(pool)\n",
        "out, context = wrapped(x)\n",
        "assert torch.allclose(out, pool(x))\n",
        "assert wrapped.undo(out, context).shape == x.shape, (\n",
        "    \"ex1: MaxPool2d.undo produces incorrect shape (-0.5 points)\"\n",
        ")"
      ],
      "metadata": {
        "_uuid": "132ae25f-169e-4aa1-9b94-314c6e1144fe",
        "_cell_guid": "fb991220-fc89-45d4-b15c-841801390057",
        "deletable": false,
        "nbgrader": {
          "cell_type": "code",
          "checksum": "21ea3f66db73587f4c2a7ad4e097066a",
          "grade": true,
          "grade_id": "cell-c9725dd49fb17067",
          "locked": true,
          "points": 0.5,
          "schema_version": 3,
          "solution": false,
          "task": false
        },
        "tags": [],
        "jupyter": {
          "outputs_hidden": false
        },
        "execution": {
          "iopub.status.busy": "2024-04-27T21:02:52.318311Z",
          "iopub.execute_input": "2024-04-27T21:02:52.318596Z",
          "iopub.status.idle": "2024-04-27T21:02:52.393674Z",
          "shell.execute_reply.started": "2024-04-27T21:02:52.318565Z",
          "shell.execute_reply": "2024-04-27T21:02:52.392895Z"
        },
        "trusted": true,
        "id": "eGFR7q_yf5TC"
      },
      "execution_count": null,
      "outputs": []
    },
    {
      "cell_type": "code",
      "source": [
        "x = torch.ones(1, 3, 32, 32)\n",
        "pool = nn.MaxPool2d(kernel_size=3)\n",
        "wrapped = UndoableMaxPool2d(pool)\n",
        "out, context = wrapped(x)\n",
        "assert torch.allclose(out, pool(x))\n",
        "assert wrapped.undo(out, context).shape == x.shape, (\n",
        "    \"ex1: MaxPool2d.undo does not (correctly) pad outputs (-0.5 points)\"\n",
        ")"
      ],
      "metadata": {
        "_uuid": "8b83ab6b-13f6-4fd8-9a4e-7a433122d195",
        "_cell_guid": "353704ec-c68a-42b6-80a5-927a1024805e",
        "deletable": false,
        "nbgrader": {
          "cell_type": "code",
          "checksum": "6f35120c644d32ba4ddc2a922775126d",
          "grade": true,
          "grade_id": "cell-9df9f45dfb216f0d",
          "locked": true,
          "points": 0.5,
          "schema_version": 3,
          "solution": false,
          "task": false
        },
        "tags": [],
        "jupyter": {
          "outputs_hidden": false
        },
        "execution": {
          "iopub.status.busy": "2024-04-27T21:02:52.394773Z",
          "iopub.execute_input": "2024-04-27T21:02:52.395081Z",
          "iopub.status.idle": "2024-04-27T21:02:52.4017Z",
          "shell.execute_reply.started": "2024-04-27T21:02:52.395053Z",
          "shell.execute_reply": "2024-04-27T21:02:52.400834Z"
        },
        "trusted": true,
        "id": "yzaPu269f5TD"
      },
      "execution_count": null,
      "outputs": []
    },
    {
      "cell_type": "code",
      "source": [
        "class UndoableConv2d(nn.Module):\n",
        "    \"\"\"\n",
        "    Wrapper around a convolutional layer that adds 'undo' functionality.\n",
        "    \"\"\"\n",
        "\n",
        "    def __init__(self, module: nn.Conv2d):\n",
        "        super().__init__()\n",
        "        self.original = module\n",
        "\n",
        "    @property\n",
        "    def kwargs(self):\n",
        "        return {\n",
        "            k: getattr(self.original, k)\n",
        "            for k in (\"padding\", \"stride\", \"dilation\", \"groups\")\n",
        "        }\n",
        "\n",
        "    def forward(self, x: torch.Tensor):\n",
        "        return nn.functional.conv2d(\n",
        "            x, self.original.weight, self.original.bias, **self.kwargs\n",
        "        ), x.shape[-2:]\n",
        "\n",
        "    @torch.no_grad()\n",
        "    def undo(self, s: torch.Tensor, context):\n",
        "        input_height, input_width = context\n",
        "\n",
        "        # Compute the output padding to ensure the output shape matches the input shape\n",
        "        output_height = (s.shape[-2] - 1) * self.original.stride[0] - 2 * self.original.padding[0] + self.original.kernel_size[0] + self.original.output_padding[0]\n",
        "        output_width = (s.shape[-1] - 1) * self.original.stride[1] - 2 * self.original.padding[1] + self.original.kernel_size[1] + self.original.output_padding[1]\n",
        "        output_padding = (input_height - output_height, input_width - output_width)\n",
        "\n",
        "        return nn.functional.conv_transpose2d(\n",
        "            s, self.original.weight, None, stride=self.original.stride,\n",
        "            padding=self.original.padding, dilation=self.original.dilation,\n",
        "            groups=self.original.groups, output_padding=output_padding\n",
        "        )\n"
      ],
      "metadata": {
        "_uuid": "d179a0eb-13fd-4695-a1aa-acfba05e688b",
        "_cell_guid": "9d3d36a7-c689-4a68-9c03-87b682b3504a",
        "deletable": false,
        "nbgrader": {
          "cell_type": "code",
          "checksum": "3dbba6fcbbb41a7d5fcf19c916a0b793",
          "grade": false,
          "grade_id": "cell-81b9c193f35af782",
          "locked": false,
          "schema_version": 3,
          "solution": true,
          "task": false
        },
        "tags": [],
        "jupyter": {
          "outputs_hidden": false
        },
        "execution": {
          "iopub.status.busy": "2024-04-27T21:02:52.402864Z",
          "iopub.execute_input": "2024-04-27T21:02:52.403184Z",
          "iopub.status.idle": "2024-04-27T21:02:52.415482Z",
          "shell.execute_reply.started": "2024-04-27T21:02:52.403154Z",
          "shell.execute_reply": "2024-04-27T21:02:52.41461Z"
        },
        "trusted": true,
        "id": "o1nSl2L9f5TE"
      },
      "execution_count": null,
      "outputs": []
    },
    {
      "cell_type": "code",
      "source": [],
      "metadata": {
        "_uuid": "1bc11805-45a4-46b1-9070-addb18d7cffa",
        "_cell_guid": "7acb32f0-715c-4c23-b254-0beaf80e103b",
        "deletable": false,
        "nbgrader": {
          "cell_type": "code",
          "checksum": "a2ccafbf532deb492bee671ea71cce39",
          "grade": true,
          "grade_id": "cell-3483ccc444d20372",
          "locked": true,
          "points": 0.5,
          "schema_version": 3,
          "solution": false,
          "task": false
        },
        "tags": [],
        "jupyter": {
          "outputs_hidden": false
        },
        "trusted": true,
        "id": "tB1R0lC6f5TF"
      },
      "execution_count": null,
      "outputs": []
    },
    {
      "cell_type": "code",
      "source": [
        "x = torch.ones(1, 3, 32, 32)\n",
        "conv = nn.Conv2d(3, 16, 7)\n",
        "wrapped = UndoableConv2d(conv)\n",
        "out, context = wrapped(x)\n",
        "assert torch.allclose(out, conv(x)) and context == (32, 32)\n",
        "assert wrapped.undo(out, context).shape == x.shape, (\n",
        "    \"ex1: Conv2d.undo produces incorrect shape (-0.5 points)\"\n",
        ")"
      ],
      "metadata": {
        "_uuid": "9488d7b2-bcd0-4937-8a9b-174d411ef6f7",
        "_cell_guid": "eba2be13-650b-4a01-b2b7-38ecc28c222b",
        "jupyter": {
          "outputs_hidden": false
        },
        "execution": {
          "iopub.status.busy": "2024-04-27T21:02:52.416396Z",
          "iopub.execute_input": "2024-04-27T21:02:52.416656Z",
          "iopub.status.idle": "2024-04-27T21:02:52.498857Z",
          "shell.execute_reply.started": "2024-04-27T21:02:52.416619Z",
          "shell.execute_reply": "2024-04-27T21:02:52.498088Z"
        },
        "trusted": true,
        "id": "5yQpwXHLf5TF"
      },
      "execution_count": null,
      "outputs": []
    },
    {
      "cell_type": "code",
      "source": [
        "x = torch.ones(1, 3, 32, 32)\n",
        "conv = nn.Conv2d(3, 16, 7, stride=2)\n",
        "wrapped = UndoableConv2d(conv)\n",
        "assert wrapped.undo(*wrapped(x)).shape == x.shape, (\n",
        "    \"ex1: Conv2d.undo does not (correctly) pad outputs (-0.5 points)\"\n",
        ")"
      ],
      "metadata": {
        "_uuid": "4316543e-d5ac-488a-802a-ddbc4a71c14f",
        "_cell_guid": "0ca5f9c9-4d53-411a-b153-236a73587f58",
        "deletable": false,
        "nbgrader": {
          "cell_type": "code",
          "checksum": "c2ef5c42665b29a5c7e6f62e7e7158ad",
          "grade": true,
          "grade_id": "cell-a44463f88b494dc3",
          "locked": true,
          "points": 0.5,
          "schema_version": 3,
          "solution": false,
          "task": false
        },
        "tags": [],
        "jupyter": {
          "outputs_hidden": false
        },
        "execution": {
          "iopub.status.busy": "2024-04-27T21:02:52.499954Z",
          "iopub.execute_input": "2024-04-27T21:02:52.500202Z",
          "iopub.status.idle": "2024-04-27T21:02:52.507933Z",
          "shell.execute_reply.started": "2024-04-27T21:02:52.500179Z",
          "shell.execute_reply": "2024-04-27T21:02:52.507025Z"
        },
        "trusted": true,
        "id": "p6KfwC0-f5TF"
      },
      "execution_count": null,
      "outputs": []
    },
    {
      "cell_type": "markdown",
      "source": [
        "### Exercise 2: Visualising Features\n",
        "\n",
        "In the previous exercise I mentioned Zeiler and Fergus.\n",
        "They used this kind of undoable modules to visualise features.\n",
        "I think it is worth trying this out for yourself.\n",
        "Is there anything we can learn from these visualisations?\n",
        "\n",
        " > Implement the `visualise_activations` method of `UndoableSequential`.\n",
        " > The `wrapped` attribute gives you the undoable versions of each layer.\n",
        " > This way, you should be able to compute activations with context.\n",
        " > These activations with context can eventually be *undone* to obtain visualisations.\n",
        " > Rather than visualising all activations at once, however,\n",
        " > the goal should be to keep the `k` highest values and set other values to zero.\n",
        " > You can use the `keep_top_k` function to do this."
      ],
      "metadata": {
        "_uuid": "ae35ef61-4d54-4f67-ad97-3f1ebd0b55e0",
        "_cell_guid": "9dfb3c0c-35b9-49a2-b8e2-aae881d77750",
        "trusted": true,
        "id": "Lq-k6AiOf5TH"
      }
    },
    {
      "cell_type": "markdown",
      "source": [
        "#Solution"
      ],
      "metadata": {
        "id": "Dc-BaknAhKsF"
      }
    },
    {
      "cell_type": "code",
      "source": [
        "def keep_top_k(tensor: torch.Tensor, k: int = 9) -> torch.Tensor:\n",
        "    \"\"\"\n",
        "    Drop all but the K highest entries in a tensor.\n",
        "\n",
        "    Parameters\n",
        "    ----------\n",
        "    tensor : torch.Tensor\n",
        "        The tensor to start from.\n",
        "    k : int\n",
        "        The number of entries to keep.\n",
        "\n",
        "    Returns\n",
        "    -------\n",
        "    result : torch.Tensor\n",
        "        A tensor with only the K highest entries of `tensor`\n",
        "        in the corresponding positions.\n",
        "        All other entries are zero.\n",
        "    \"\"\"\n",
        "    result = torch.zeros_like(tensor)\n",
        "    vals, indices = torch.flatten(tensor, start_dim=1).topk(k, dim=-1)\n",
        "    torch.flatten(result, start_dim=1).scatter_(-1, indices, vals)\n",
        "    return result"
      ],
      "metadata": {
        "_uuid": "889198be-09e9-42d0-821b-498f1be4c802",
        "_cell_guid": "58ebd0ba-353c-48ce-a21b-2a8c61db65be",
        "deletable": false,
        "nbgrader": {
          "cell_type": "code",
          "checksum": "bdb418a51d4628affe7fc1d86a12062c",
          "grade": false,
          "grade_id": "cell-2feca7f07595b984",
          "locked": true,
          "schema_version": 3,
          "solution": false,
          "task": false
        },
        "pycharm": {
          "name": "#%%\n"
        },
        "tags": [],
        "jupyter": {
          "outputs_hidden": false
        },
        "execution": {
          "iopub.status.busy": "2024-04-27T21:02:52.526813Z",
          "iopub.execute_input": "2024-04-27T21:02:52.527066Z",
          "iopub.status.idle": "2024-04-27T21:02:52.536106Z",
          "shell.execute_reply.started": "2024-04-27T21:02:52.527044Z",
          "shell.execute_reply": "2024-04-27T21:02:52.535249Z"
        },
        "trusted": true,
        "id": "xWWaNI3ef5TH"
      },
      "execution_count": null,
      "outputs": []
    },
    {
      "cell_type": "code",
      "source": [
        "class UndoableSequential(nn.Module):\n",
        "    \"\"\"\n",
        "    Wrapper around a sequential layer that adds 'undo' functionality.\n",
        "    \"\"\"\n",
        "\n",
        "    UNDOABLE_MODULES = {\n",
        "        nn.Conv2d: UndoableConv2d,\n",
        "        nn.MaxPool2d: UndoableMaxPool2d,\n",
        "        nn.ReLU: UndoableReLU,\n",
        "    }\n",
        "\n",
        "    def __init__(self, module: nn.Sequential):\n",
        "        super().__init__()\n",
        "        self.original = module\n",
        "        self.wrapped = nn.ModuleList([\n",
        "            self.UNDOABLE_MODULES[type(m)](m) for m in module\n",
        "        ])\n",
        "\n",
        "    def forward(self, x: torch.Tensor, until: int = None):\n",
        "        context = []\n",
        "        for module in self.wrapped[:until]:\n",
        "            x, ctx = module(x)\n",
        "            context.append(ctx)\n",
        "        return x, context\n",
        "\n",
        "    def visualise_activations(self, x: torch.Tensor, layer: int = None, k: int = 9):\n",
        "        \"\"\"\n",
        "        Visualise activations in input space.\n",
        "\n",
        "        Parameters\n",
        "        ----------\n",
        "        x : torch.Tensor\n",
        "            The data for which the activations should be visualised.\n",
        "        layer : int, optional\n",
        "            The layer to visualise the activations for.\n",
        "            By default, activations in the last layer are visualised.\n",
        "        k : int, optional\n",
        "            The number of activations to visualise.\n",
        "\n",
        "        Returns\n",
        "        -------\n",
        "        visualisation : torch.Tensor\n",
        "            The visualisations with the same shape as `x`.\n",
        "        \"\"\"\n",
        "        if layer is None:\n",
        "            layer = len(self.wrapped)\n",
        "\n",
        "        activations, context = self.forward(x, until=layer)\n",
        "\n",
        "        for i in reversed(range(layer)):\n",
        "            ctx = context[i]\n",
        "            activations = keep_top_k(activations, k)\n",
        "            activations = self.wrapped[i].undo(activations, ctx)\n",
        "\n",
        "        return activations\n"
      ],
      "metadata": {
        "_uuid": "faad8afb-5750-4a2a-83d2-a811d73f44d6",
        "_cell_guid": "2b0a4419-c955-44e3-9f8d-a0f00e4b70db",
        "deletable": false,
        "nbgrader": {
          "cell_type": "code",
          "checksum": "2bb9d8af5356aae5a14c5eaa2a50c1ff",
          "grade": false,
          "grade_id": "cell-cc29165d7d1028d5",
          "locked": false,
          "schema_version": 3,
          "solution": true,
          "task": false
        },
        "tags": [],
        "jupyter": {
          "outputs_hidden": false
        },
        "execution": {
          "iopub.status.busy": "2024-04-27T21:02:52.537137Z",
          "iopub.execute_input": "2024-04-27T21:02:52.537398Z",
          "iopub.status.idle": "2024-04-27T21:02:52.548007Z",
          "shell.execute_reply.started": "2024-04-27T21:02:52.537377Z",
          "shell.execute_reply": "2024-04-27T21:02:52.547027Z"
        },
        "trusted": true,
        "id": "Py5Q6rqrf5TI"
      },
      "execution_count": null,
      "outputs": []
    },
    {
      "cell_type": "code",
      "source": [
        "# download some random 256x256 kitten image\n",
        "kitten_url = 'https://homes.cs.washington.edu/~moreau/media/vta/cat.jpg'\n",
        "kitten_md5 = 'b852db33459ff958c9bba4e015cb37eb'\n",
        "x_im = download_image_data(kitten_url, kitten_md5)\n",
        "\n",
        "# download trained network\n",
        "net = models.alexnet(weights=models.AlexNet_Weights.DEFAULT)"
      ],
      "metadata": {
        "_uuid": "30a2daf4-7c04-469c-8aa5-30db179abbb1",
        "_cell_guid": "e742632d-0889-4a21-a8aa-e36ba503665b",
        "deletable": false,
        "nbgrader": {
          "cell_type": "code",
          "checksum": "4d6a226dc3294ca1cb38c4bbd4c5c488",
          "grade": false,
          "grade_id": "cell-5c7ae15d4d5dffbf",
          "locked": true,
          "schema_version": 3,
          "solution": false,
          "task": false
        },
        "tags": [],
        "jupyter": {
          "outputs_hidden": false
        },
        "execution": {
          "iopub.status.busy": "2024-04-27T21:02:52.549313Z",
          "iopub.execute_input": "2024-04-27T21:02:52.549713Z",
          "iopub.status.idle": "2024-04-27T21:02:55.740001Z",
          "shell.execute_reply.started": "2024-04-27T21:02:52.54968Z",
          "shell.execute_reply": "2024-04-27T21:02:55.739011Z"
        },
        "trusted": true,
        "id": "7kI-yOdXf5TI",
        "outputId": "6c37b160-cb6d-4dd7-af66-c6ff92fd92da"
      },
      "execution_count": null,
      "outputs": [
        {
          "name": "stdout",
          "text": "Downloading https://homes.cs.washington.edu/~moreau/media/vta/cat.jpg to /root/.pytorch/cat.jpg\n",
          "output_type": "stream"
        },
        {
          "name": "stderr",
          "text": "100%|██████████| 123126/123126 [00:00<00:00, 879261.14it/s]\nDownloading: \"https://download.pytorch.org/models/alexnet-owt-7be5be79.pth\" to /root/.cache/torch/hub/checkpoints/alexnet-owt-7be5be79.pth\n100%|██████████| 233M/233M [00:01<00:00, 165MB/s]  \n",
          "output_type": "stream"
        }
      ]
    },
    {
      "cell_type": "code",
      "source": [
        "seq = UndoableSequential(net.features)\n",
        "vis_layer1 = seq.visualise_activations(x_im, layer=1)\n",
        "\n",
        "assert vis_layer1.shape == x_im.shape, (\n",
        "    \"ex2: first layer vis does not have correct shape (-0.5 points)\"\n",
        ")\n",
        "assert torch.count_nonzero(vis_layer1.sum(1)) <= 1089, (\n",
        "    \"ex2: too many non-zero values in first layer vis for k=9 (-0.5 points)\"\n",
        ")"
      ],
      "metadata": {
        "_uuid": "c2990dce-4c89-40dc-b3fa-e5579830516d",
        "_cell_guid": "78b05d3e-a3dd-4e27-ac72-d74fc675106e",
        "deletable": false,
        "nbgrader": {
          "cell_type": "code",
          "checksum": "c6f0af105715ffc1d0ae1674d45d1bba",
          "grade": true,
          "grade_id": "cell-970c27b2f58a4220",
          "locked": true,
          "points": 0.5,
          "schema_version": 3,
          "solution": false,
          "task": false
        },
        "pycharm": {
          "name": "#%%\n"
        },
        "tags": [],
        "jupyter": {
          "outputs_hidden": false
        },
        "execution": {
          "iopub.status.busy": "2024-04-27T21:02:55.741321Z",
          "iopub.execute_input": "2024-04-27T21:02:55.741729Z",
          "iopub.status.idle": "2024-04-27T21:02:55.774049Z",
          "shell.execute_reply.started": "2024-04-27T21:02:55.741695Z",
          "shell.execute_reply": "2024-04-27T21:02:55.773101Z"
        },
        "trusted": true,
        "id": "WJcYIR7uf5TJ"
      },
      "execution_count": null,
      "outputs": []
    },
    {
      "cell_type": "code",
      "source": [
        "vis_layer2 = seq.visualise_activations(x_im, layer=4)\n",
        "assert vis_layer2.shape == x_im.shape, (\n",
        "    \"ex2: fourth layer vis does not have correct shape (-0.5 points)\"\n",
        ")\n",
        "assert torch.count_nonzero(vis_layer2.sum(1)) <= 24336, (\n",
        "    \"ex2: too many non-zero values in fourth layer vis for k=9 (-0.5 points)\"\n",
        ")"
      ],
      "metadata": {
        "_uuid": "b4ea0d79-973a-406a-b7a3-581d4d5508fd",
        "_cell_guid": "8fa76a45-5729-4b80-84d6-36ec5d8fccd6",
        "deletable": false,
        "nbgrader": {
          "cell_type": "code",
          "checksum": "97bf63d8eca515d9c0eadb08b41b9f58",
          "grade": true,
          "grade_id": "cell-7076e3389bc18ca9",
          "locked": true,
          "points": 0.5,
          "schema_version": 3,
          "solution": false,
          "task": false
        },
        "pycharm": {
          "name": "#%%\n"
        },
        "tags": [],
        "jupyter": {
          "outputs_hidden": false
        },
        "execution": {
          "iopub.status.busy": "2024-04-27T21:02:55.775284Z",
          "iopub.execute_input": "2024-04-27T21:02:55.775567Z",
          "iopub.status.idle": "2024-04-27T21:02:55.801602Z",
          "shell.execute_reply.started": "2024-04-27T21:02:55.775542Z",
          "shell.execute_reply": "2024-04-27T21:02:55.800677Z"
        },
        "trusted": true,
        "id": "6vWjwzpAf5TJ"
      },
      "execution_count": null,
      "outputs": []
    },
    {
      "cell_type": "code",
      "source": [
        "# sanity check\n",
        "out = data_to_image(vis_layer1[0], x_im[0], vis_layer2[0],\n",
        "                    means=(.485, .456, .406), stds=(.229, .224, .225))\n",
        "display(out, metadata={'width': '100%'})"
      ],
      "metadata": {
        "_uuid": "4aee6d39-6829-4cbe-85c1-573a8d9a59b9",
        "_cell_guid": "53d75831-8937-4399-ad29-b2142c599e3f",
        "deletable": false,
        "nbgrader": {
          "cell_type": "code",
          "checksum": "606ecd7db17af54f5cbb0b4e55cb8ae9",
          "grade": false,
          "grade_id": "cell-35ddcf5eed890a9b",
          "locked": true,
          "schema_version": 3,
          "solution": false,
          "task": false
        },
        "pycharm": {
          "name": "#%%\n"
        },
        "tags": [],
        "jupyter": {
          "outputs_hidden": false
        },
        "execution": {
          "iopub.status.busy": "2024-04-27T21:29:51.631148Z",
          "iopub.execute_input": "2024-04-27T21:29:51.632104Z",
          "iopub.status.idle": "2024-04-27T21:29:51.664699Z",
          "shell.execute_reply.started": "2024-04-27T21:29:51.632071Z",
          "shell.execute_reply": "2024-04-27T21:29:51.663831Z"
        },
        "trusted": true,
        "id": "W5Ql5oqCf5TK",
        "outputId": "d0c3d40c-3b77-497b-910c-38eaeadd9cf4"
      },
      "execution_count": null,
      "outputs": [
        {
          "output_type": "display_data",
          "data": {
            "text/plain": "<PIL.Image.Image image mode=RGB size=672x224>",
            "image/png": "[encoded data removed]"
          },
          "metadata": {
            "width": "100%"
          }
        }
      ]
    },
    {
      "cell_type": "markdown",
      "source": [
        "### Exercise 3: Convolutional Auto-Encoders\n",
        "\n",
        "Architecturally an auto-encoder is not much more than a model\n",
        "where inputs and outputs have the same dimensions.\n",
        "For fully-connected networks this is relatively straightforward.\n",
        "However, with our newly acquired knowledge on transposed convolutions,\n",
        "also convolutional and pooling layers should not pose too much problems.\n",
        "One key difference is that the transposed convolutions n an auto-encoder\n",
        "will have their own learnable parameters.\n",
        "\n",
        "The architecture is typically symmetrical and consists of two parts:\n",
        "\n",
        " 1. an **encoder** that transforms the image to some latent space and\n",
        " 2. a **decoder** that produces an image from vectors in the latent space.\n",
        "\n",
        "Since both components can operate independently from each other,\n",
        "auto-encoders can be used to e.g. learn compression algorithms.\n",
        "Because the output of both networks can be useful,\n",
        "it is typically a good idea to have them predict logits,\n",
        "i.e. not to use activation functions at the end.\n",
        "This way, both the output of the encoder\n",
        "and the output of the decoder can be used in loss functions.\n",
        "\n",
        " > Implement the `AutoEncoder` class with an `encoder` and a `decoder` network.\n",
        " > The `encoder` network should have at least\n",
        " > one average-pooling and two convolutional layers.\n",
        " > The `decoder` architecture should be symmetric to that of the `encoder`,\n",
        " > except for the exact placement of activation functions.\n",
        " > The `forward` method should aim to reconstruct the inputs\n",
        " > using the `encoder` and `decoder` networks.\n",
        " > You can ignore the `to_intensities` and `reconstruct` methods (for now).\n",
        "\n",
        "**Hint:** Average pooling can be *undone* by upsampling the image."
      ],
      "metadata": {
        "_uuid": "f3bececd-2dcb-42ae-ba6f-57330d6e20e5",
        "_cell_guid": "b4024cad-f801-4452-a4ba-77184adbd15b",
        "pycharm": {
          "name": "#%% md\n"
        },
        "tags": [],
        "trusted": true,
        "id": "1MvQ8f3pf5TL"
      }
    },
    {
      "cell_type": "markdown",
      "source": [
        "#Solution"
      ],
      "metadata": {
        "id": "7G9f2ifohfJr"
      }
    },
    {
      "cell_type": "code",
      "source": [
        "class AutoEncoder(nn.Module):\n",
        "    \"\"\" Convolutional auto-encoder. \"\"\"\n",
        "\n",
        "    def __init__(self, in_channels: int, hid_channels: int, code_channels: int,\n",
        "                 kernel_size: int, stride: int = 1, pooling: int = 2,\n",
        "                 activation: nn.Module = nn.ReLU(), assumption: str = None):\n",
        "        super().__init__()\n",
        "        self.assumption = assumption\n",
        "        self.encoder = nn.Sequential(\n",
        "            nn.Conv2d(in_channels, hid_channels, kernel_size, stride, padding=kernel_size // 2),\n",
        "            activation,\n",
        "            nn.Conv2d(hid_channels, hid_channels, kernel_size, stride, padding=kernel_size // 2),\n",
        "            activation,\n",
        "            nn.AvgPool2d(pooling)\n",
        "        )\n",
        "        self.decoder = nn.Sequential(\n",
        "            nn.ConvTranspose2d(hid_channels, hid_channels, pooling, stride=pooling),\n",
        "            activation,\n",
        "            nn.ConvTranspose2d(hid_channels, hid_channels, kernel_size, stride=stride, padding=kernel_size // 2),\n",
        "            activation,\n",
        "            nn.ConvTranspose2d(hid_channels, in_channels, kernel_size, stride=stride, padding=kernel_size // 2),\n",
        "            nn.Sigmoid()  # Apply Sigmoid activation to ensure values in [0, 1]\n",
        "        )\n",
        "\n",
        "    def forward(self, x):\n",
        "        encoded = self.encoder(x)\n",
        "        decoded = self.decoder(encoded)\n",
        "        return decoded\n",
        "\n",
        "\n",
        "    def reconstruct(self, x):\n",
        "        # Define the reconstruction process here\n",
        "        encoded = self.encoder(x)\n",
        "        reconstructed = self.decoder(encoded)\n",
        "        return reconstructed\n"
      ],
      "metadata": {
        "_uuid": "52f7a695-3516-4c72-83cf-7afeb66144e6",
        "_cell_guid": "ad4902c1-fc53-4e44-bc82-8c31a0afc410",
        "deletable": false,
        "nbgrader": {
          "cell_type": "code",
          "checksum": "e2718e157247be4aa80fddb78e0b2a00",
          "grade": false,
          "grade_id": "cell-c67df72970121511",
          "locked": false,
          "schema_version": 3,
          "solution": true,
          "task": false
        },
        "pycharm": {
          "name": "#%%\n"
        },
        "tags": [],
        "jupyter": {
          "outputs_hidden": false
        },
        "execution": {
          "iopub.status.busy": "2024-04-27T21:02:55.843317Z",
          "iopub.execute_input": "2024-04-27T21:02:55.843595Z",
          "iopub.status.idle": "2024-04-27T21:02:55.853576Z",
          "shell.execute_reply.started": "2024-04-27T21:02:55.843571Z",
          "shell.execute_reply": "2024-04-27T21:02:55.852704Z"
        },
        "trusted": true,
        "id": "XxPv72iHf5TL"
      },
      "execution_count": null,
      "outputs": []
    },
    {
      "cell_type": "code",
      "source": [
        "ae = AutoEncoder(1, 1, 1, 3)\n",
        "assert len(ae.encoder) > 3, (\n",
        "    \"ex3: encoder has too little modules (-1 point)\"\n",
        ")"
      ],
      "metadata": {
        "_uuid": "df9ea96e-b451-4ee1-bd9f-fbeb89073845",
        "_cell_guid": "53690c5b-f999-4003-be04-d03ec3b45eac",
        "deletable": false,
        "nbgrader": {
          "cell_type": "code",
          "checksum": "3dfc855d5883c17e907050ea3d684d10",
          "grade": true,
          "grade_id": "cell-44340745bc0c7a26",
          "locked": true,
          "points": 1,
          "schema_version": 3,
          "solution": false,
          "task": false
        },
        "tags": [],
        "jupyter": {
          "outputs_hidden": false
        },
        "execution": {
          "iopub.status.busy": "2024-04-27T21:02:55.854575Z",
          "iopub.execute_input": "2024-04-27T21:02:55.854888Z",
          "iopub.status.idle": "2024-04-27T21:02:55.867599Z",
          "shell.execute_reply.started": "2024-04-27T21:02:55.854864Z",
          "shell.execute_reply": "2024-04-27T21:02:55.86668Z"
        },
        "trusted": true,
        "id": "OWBdG2u1f5TM"
      },
      "execution_count": null,
      "outputs": []
    },
    {
      "cell_type": "code",
      "source": [
        "ae = AutoEncoder(1, 1, 1, 3)\n",
        "assert len(ae.decoder) > 3, (\n",
        "    \"ex3: decoder has too little modules (-1 point)\"\n",
        ")"
      ],
      "metadata": {
        "_uuid": "b1e9acbf-a70f-4315-b78a-e730396a29b1",
        "_cell_guid": "7f632a79-1193-4d81-abb8-812666ddf281",
        "deletable": false,
        "nbgrader": {
          "cell_type": "code",
          "checksum": "ba58c532ec21f76cd843edcf077f5ebb",
          "grade": true,
          "grade_id": "cell-90c4a648100da957",
          "locked": true,
          "points": 1,
          "schema_version": 3,
          "solution": false,
          "task": false
        },
        "tags": [],
        "jupyter": {
          "outputs_hidden": false
        },
        "execution": {
          "iopub.status.busy": "2024-04-27T21:02:55.870375Z",
          "iopub.execute_input": "2024-04-27T21:02:55.870746Z",
          "iopub.status.idle": "2024-04-27T21:02:55.877318Z",
          "shell.execute_reply.started": "2024-04-27T21:02:55.870711Z",
          "shell.execute_reply": "2024-04-27T21:02:55.876527Z"
        },
        "trusted": true,
        "id": "ubv7crACf5TM"
      },
      "execution_count": null,
      "outputs": []
    },
    {
      "cell_type": "code",
      "source": [
        "ae = AutoEncoder(1, 16, 8, 5)\n",
        "x = torch.randn(1, 1, 28, 28)\n",
        "y = ae(x)\n",
        "assert x.shape == y.shape, (\n",
        "    f\"ex3: reconstructed input has different shape: {tuple(y.shape)} (-0.5 points)\"\n",
        ")"
      ],
      "metadata": {
        "_uuid": "4c6f6d69-e3b6-48c5-b7f1-37af243bcb6e",
        "_cell_guid": "70bf51b4-9314-401c-a7f2-845ff4183170",
        "deletable": false,
        "nbgrader": {
          "cell_type": "code",
          "checksum": "79e6666b7bd304d01394ddd181d0eb00",
          "grade": true,
          "grade_id": "cell-5ae408de99c7f8ca",
          "locked": true,
          "points": 0.5,
          "schema_version": 3,
          "solution": false,
          "task": false
        },
        "tags": [],
        "jupyter": {
          "outputs_hidden": false
        },
        "execution": {
          "iopub.status.busy": "2024-04-27T21:02:55.878471Z",
          "iopub.execute_input": "2024-04-27T21:02:55.878822Z",
          "iopub.status.idle": "2024-04-27T21:02:55.93022Z",
          "shell.execute_reply.started": "2024-04-27T21:02:55.878791Z",
          "shell.execute_reply": "2024-04-27T21:02:55.929424Z"
        },
        "trusted": true,
        "id": "q64zrx94f5TN"
      },
      "execution_count": null,
      "outputs": []
    },
    {
      "cell_type": "markdown",
      "source": [
        "### Exercise 4: Auto-Encoding\n",
        "\n",
        "Of course, training an auto-encoder takes more than just a nice architecture.\n",
        "The loss function as well as the pre-processing of data will also affect the results.\n",
        "There is no right or wrong as long as you get the desired result.\n",
        "However, we can make certain assumptions to guide the search for a good combination.\n",
        "After all, all components have to work together to get nice reconstructions.\n",
        "Can you spot/explain the difference in results for different assumptions?\n",
        "\n",
        " > Train the simple auto-encoder from exercise 3 on the AutoMNIST dataset.\n",
        " > Fill out the template code below using the `AutoEncoderTrainer` class,\n",
        " > which has been defined in the \"preamble\" of this assignment.\n",
        " > Your main task will be to choose a loss function and set up pre-processing of the targets.\n",
        " > Use the `assumption` kwarg of the `AutoEncoder` class to indicate your assumptions.\n",
        " > This should also guarantee correct visualisations of the reconstructions.\n",
        " > Make sure that the assumption matches the chosen loss function and pre-processing.\n",
        " > Feel free to add assumptions in the `reconstruct` method if you feel something is missing.\n",
        "\n",
        "**Hint:** A few `assumption` options are provided in the documentation of `AutoEncoder.__init__`"
      ],
      "metadata": {
        "_uuid": "ef31ee3e-d9b6-441a-b21d-3d3979a3142f",
        "_cell_guid": "e831536d-8751-4313-be1c-353a35065c8b",
        "tags": [],
        "trusted": true,
        "id": "aoFBEx-gf5TO"
      }
    },
    {
      "cell_type": "code",
      "source": [
        "target_transform = transforms.Compose([\n",
        "    transforms.ToTensor(),\n",
        "    transforms.Normalize((.1307,), (.3081,))\n",
        "])\n",
        "\n",
        "data = AutoMNIST(\n",
        "    data_root,\n",
        "    download=True,\n",
        "    transform=transforms.Compose([\n",
        "        transforms.ToTensor(),\n",
        "        transforms.Normalize((.1307,), (.3081,))\n",
        "    ]),\n",
        "    target_transform=target_transform,\n",
        ")\n",
        "# Assumption for the AutoEncoder\n",
        "assumption = \"probabilistic\"\n",
        "\n",
        "# Loss function\n",
        "criterion = nn.MSELoss()\n",
        "\n",
        "# Initialize AutoEncoder model\n",
        "auto_encoder = AutoEncoder(\n",
        "    1, 64, 16, 5, activation=nn.ELU(),\n",
        "    assumption=assumption,\n",
        ").to(device)\n",
        "\n",
        "# Initialize AutoEncoderTrainer\n",
        "trainer = AutoEncoderTrainer(\n",
        "    model=auto_encoder,\n",
        "    criterion=criterion,\n",
        "    optimiser=optim.Adamax(auto_encoder.parameters()),\n",
        ")\n",
        "\n",
        "# DataLoader\n",
        "loader = DataLoader(data, batch_size=256, shuffle=True, num_workers=4)\n",
        "\n",
        "# Training loop\n",
        "trainer.train(loader, num_epochs=10)\n"
      ],
      "metadata": {
        "_uuid": "b787a24f-106c-4704-ba4e-7909ab79cab4",
        "_cell_guid": "7e4653bd-bb25-46a8-90ad-45c36a4b7786",
        "deletable": false,
        "nbgrader": {
          "cell_type": "code",
          "checksum": "a251d8bbcc5f892d098c0af562a500c0",
          "grade": false,
          "grade_id": "cell-1a9420b012136606",
          "locked": false,
          "schema_version": 3,
          "solution": true,
          "task": false
        },
        "tags": [],
        "jupyter": {
          "outputs_hidden": false
        },
        "execution": {
          "iopub.status.busy": "2024-04-27T21:02:55.947551Z",
          "iopub.execute_input": "2024-04-27T21:02:55.947903Z",
          "iopub.status.idle": "2024-04-27T21:05:14.373885Z",
          "shell.execute_reply.started": "2024-04-27T21:02:55.947874Z",
          "shell.execute_reply": "2024-04-27T21:05:14.372929Z"
        },
        "trusted": true,
        "id": "xPskFrABf5TO",
        "outputId": "a5db5033-6c15-4c17-c41e-3b61080dd3e7"
      },
      "execution_count": null,
      "outputs": [
        {
          "name": "stdout",
          "text": "Downloading http://yann.lecun.com/exdb/mnist/train-images-idx3-ubyte.gz\nFailed to download (trying next):\nHTTP Error 503: Service Unavailable\n\nDownloading https://ossci-datasets.s3.amazonaws.com/mnist/train-images-idx3-ubyte.gz\nDownloading https://ossci-datasets.s3.amazonaws.com/mnist/train-images-idx3-ubyte.gz to /root/.pytorch/MNIST/raw/train-images-idx3-ubyte.gz\n",
          "output_type": "stream"
        },
        {
          "name": "stderr",
          "text": "100%|██████████| 9912422/9912422 [00:00<00:00, 39352045.22it/s]\n",
          "output_type": "stream"
        },
        {
          "name": "stdout",
          "text": "Extracting /root/.pytorch/MNIST/raw/train-images-idx3-ubyte.gz to /root/.pytorch/MNIST/raw\n\nDownloading http://yann.lecun.com/exdb/mnist/train-labels-idx1-ubyte.gz\nFailed to download (trying next):\nHTTP Error 503: Service Unavailable\n\nDownloading https://ossci-datasets.s3.amazonaws.com/mnist/train-labels-idx1-ubyte.gz\nDownloading https://ossci-datasets.s3.amazonaws.com/mnist/train-labels-idx1-ubyte.gz to /root/.pytorch/MNIST/raw/train-labels-idx1-ubyte.gz\n",
          "output_type": "stream"
        },
        {
          "name": "stderr",
          "text": "100%|██████████| 28881/28881 [00:00<00:00, 1207529.07it/s]",
          "output_type": "stream"
        },
        {
          "name": "stdout",
          "text": "Extracting /root/.pytorch/MNIST/raw/train-labels-idx1-ubyte.gz to /root/.pytorch/MNIST/raw\n\nDownloading http://yann.lecun.com/exdb/mnist/t10k-images-idx3-ubyte.gz\nFailed to download (trying next):\nHTTP Error 503: Service Unavailable\n\nDownloading https://ossci-datasets.s3.amazonaws.com/mnist/t10k-images-idx3-ubyte.gz\n",
          "output_type": "stream"
        },
        {
          "name": "stderr",
          "text": "\n",
          "output_type": "stream"
        },
        {
          "name": "stdout",
          "text": "Downloading https://ossci-datasets.s3.amazonaws.com/mnist/t10k-images-idx3-ubyte.gz to /root/.pytorch/MNIST/raw/t10k-images-idx3-ubyte.gz\n",
          "output_type": "stream"
        },
        {
          "name": "stderr",
          "text": "100%|██████████| 1648877/1648877 [00:00<00:00, 9353598.06it/s]\n",
          "output_type": "stream"
        },
        {
          "name": "stdout",
          "text": "Extracting /root/.pytorch/MNIST/raw/t10k-images-idx3-ubyte.gz to /root/.pytorch/MNIST/raw\n\nDownloading http://yann.lecun.com/exdb/mnist/t10k-labels-idx1-ubyte.gz\nFailed to download (trying next):\nHTTP Error 503: Service Unavailable\n\nDownloading https://ossci-datasets.s3.amazonaws.com/mnist/t10k-labels-idx1-ubyte.gz\nDownloading https://ossci-datasets.s3.amazonaws.com/mnist/t10k-labels-idx1-ubyte.gz to /root/.pytorch/MNIST/raw/t10k-labels-idx1-ubyte.gz\n",
          "output_type": "stream"
        },
        {
          "name": "stderr",
          "text": "100%|██████████| 4542/4542 [00:00<00:00, 2877723.38it/s]",
          "output_type": "stream"
        },
        {
          "name": "stdout",
          "text": "Extracting /root/.pytorch/MNIST/raw/t10k-labels-idx1-ubyte.gz to /root/.pytorch/MNIST/raw\n\n",
          "output_type": "stream"
        },
        {
          "name": "stderr",
          "text": "\n",
          "output_type": "stream"
        },
        {
          "name": "stdout",
          "text": "Epoch  0 - avg loss: 1.213622 \n",
          "output_type": "stream"
        },
        {
          "output_type": "display_data",
          "data": {
            "text/plain": "<PIL.Image.Image image mode=L size=280x56>",
            "image/png": "[encoded data removed]"
          },
          "metadata": {
            "width": "100%"
          }
        },
        {
          "name": "stdout",
          "text": "Epoch  0 - avg loss: 0.480104 \nEpoch  0 - avg loss: 0.466836 \nEpoch  0 - avg loss: 0.465595 \nEpoch  0 - avg loss: 0.464998 \nEpoch  0 - avg loss: 0.464553 \n",
          "output_type": "stream"
        },
        {
          "output_type": "display_data",
          "data": {
            "text/plain": "<PIL.Image.Image image mode=L size=280x56>",
            "image/png": "[encoded data removed]"
          },
          "metadata": {
            "width": "100%"
          }
        },
        {
          "name": "stdout",
          "text": "Epoch  0 - avg loss: 0.464322 \nEpoch  0 - avg loss: 0.464009 \nEpoch  0 - avg loss: 0.463852 \nEpoch  0 - avg loss: 0.463816 \nEpoch  0 - avg loss: 0.463683 \n",
          "output_type": "stream"
        },
        {
          "output_type": "display_data",
          "data": {
            "text/plain": "<PIL.Image.Image image mode=L size=280x56>",
            "image/png": "[encoded data removed]"
          },
          "metadata": {
            "width": "100%"
          }
        }
      ]
    },
    {
      "cell_type": "code",
      "source": [
        "assert len(data.transform.transforms) == 2, (\n",
        "    \"ex4: input transform should not be altered! (-1 point)\"\n",
        ")\n",
        "\n",
        "try:\n",
        "    x_in, x_out = data[0]\n",
        "    assert torch.is_tensor(x_in) and torch.is_tensor(x_out), (\n",
        "        \"ex4: pre-processing does not produce tensors (-1 point)\"\n",
        "    )\n",
        "except (TypeError, RuntimeError):\n",
        "    raise AssertionError(\n",
        "        \"ex4: pre-processing is broken (-1 point)\"\n",
        "    ) from None"
      ],
      "metadata": {
        "_uuid": "5089e0fa-c67b-48b8-b98e-51a8e467bf0d",
        "_cell_guid": "d6f22621-6e66-45d1-b6e9-af6f55734893",
        "deletable": false,
        "nbgrader": {
          "cell_type": "code",
          "checksum": "204001b309c814bed6320db5b9bac196",
          "grade": true,
          "grade_id": "cell-b6b8e706a81321cd",
          "locked": true,
          "points": 1,
          "schema_version": 3,
          "solution": false,
          "task": false
        },
        "tags": [],
        "jupyter": {
          "outputs_hidden": false
        },
        "execution": {
          "iopub.status.busy": "2024-04-27T21:05:14.375478Z",
          "iopub.execute_input": "2024-04-27T21:05:14.376251Z",
          "iopub.status.idle": "2024-04-27T21:05:14.383454Z",
          "shell.execute_reply.started": "2024-04-27T21:05:14.376209Z",
          "shell.execute_reply": "2024-04-27T21:05:14.382513Z"
        },
        "trusted": true,
        "id": "yLp5YsP8f5Tg"
      },
      "execution_count": null,
      "outputs": []
    },
    {
      "cell_type": "code",
      "source": [
        "x_rec = auto_encoder.reconstruct(torch.randn(16, 1, 28, 28).to(device))\n",
        "assert x_rec.min() >= 0 and x_rec.max() <= 1, (\n",
        "    \"ex4: invalid range for reconstructed values: \"\n",
        "    f\"[{x_rec.min().item(), x_rec.max().item()}] (-1 point)\"\n",
        ")"
      ],
      "metadata": {
        "_uuid": "57a28942-4466-493d-9371-bd633b026587",
        "_cell_guid": "b333e4ed-8ba7-4623-b262-a9e91f36b63f",
        "deletable": false,
        "nbgrader": {
          "cell_type": "code",
          "checksum": "4ea500e244c02ad83a4193d7851f4520",
          "grade": true,
          "grade_id": "cell-e15fb12fe6ad77c5",
          "locked": true,
          "points": 1,
          "schema_version": 3,
          "solution": false,
          "task": false
        },
        "tags": [],
        "jupyter": {
          "outputs_hidden": false
        },
        "execution": {
          "iopub.status.busy": "2024-04-27T21:05:14.384779Z",
          "iopub.execute_input": "2024-04-27T21:05:14.385209Z",
          "iopub.status.idle": "2024-04-27T21:05:14.431527Z",
          "shell.execute_reply.started": "2024-04-27T21:05:14.385167Z",
          "shell.execute_reply": "2024-04-27T21:05:14.430749Z"
        },
        "trusted": true,
        "id": "Nt8fpsw1f5Tg"
      },
      "execution_count": null,
      "outputs": []
    },
    {
      "cell_type": "code",
      "source": [
        "# sanity check\n",
        "loader = DataLoader(data, batch_size=256, shuffle=True, num_workers=4)\n",
        "trainer.train(loader, num_epochs=10)"
      ],
      "metadata": {
        "_uuid": "30325fe4-ed82-499c-b61d-bfafc7b049ae",
        "_cell_guid": "f01d4824-0b83-46e8-93b4-adc7dfa05a8d",
        "tags": [
          "skip-execution"
        ],
        "jupyter": {
          "outputs_hidden": false
        },
        "execution": {
          "iopub.status.busy": "2024-04-27T21:05:14.432523Z",
          "iopub.execute_input": "2024-04-27T21:05:14.432842Z",
          "iopub.status.idle": "2024-04-27T21:07:32.441944Z",
          "shell.execute_reply.started": "2024-04-27T21:05:14.432816Z",
          "shell.execute_reply": "2024-04-27T21:07:32.440872Z"
        },
        "trusted": true,
        "id": "Gq_Q2L-Mf5Th",
        "outputId": "57b8a47f-1955-4516-e103-75421e8daa4c"
      },
      "execution_count": null,
      "outputs": [
        {
          "name": "stdout",
          "text": "Epoch  0 - avg loss: 0.463626 \n",
          "output_type": "stream"
        },
        {
          "output_type": "display_data",
          "data": {
            "text/plain": "<PIL.Image.Image image mode=L size=280x56>",
            "image/png": "[encoded data removed]"
          },
          "metadata": {
            "width": "100%"
          }
        },
        {
          "name": "stdout",
          "text": "Epoch  0 - avg loss: 0.463601 \nEpoch  0 - avg loss: 0.463480 \nEpoch  0 - avg loss: 0.463480 \nEpoch  0 - avg loss: 0.463473 \nEpoch  0 - avg loss: 0.463418 \n",
          "output_type": "stream"
        },
        {
          "output_type": "display_data",
          "data": {
            "text/plain": "<PIL.Image.Image image mode=L size=280x56>",
            "image/png": "[encoded data removed]"
          },
          "metadata": {
            "width": "100%"
          }
        },
        {
          "name": "stdout",
          "text": "Epoch  0 - avg loss: 0.463358 \nEpoch  0 - avg loss: 0.463361 \nEpoch  0 - avg loss: 0.463448 \nEpoch  0 - avg loss: 0.463339 \nEpoch  0 - avg loss: 0.463285 \n",
          "output_type": "stream"
        },
        {
          "output_type": "display_data",
          "data": {
            "text/plain": "<PIL.Image.Image image mode=L size=280x56>",
            "image/png": "[encoded data removed]"
          },
          "metadata": {
            "width": "100%"
          }
        }
      ]
    },
    {
      "cell_type": "markdown",
      "source": [
        "## Variational Auto-Encoders\n",
        "\n",
        "Variational auto-encoders (VAEs) extend auto-encoders in a probabilistic way.\n",
        "Although this might sound complicated, it only requires a few modifications to make an auto-encoder variational.\n",
        "First of all, the latent space is regularised to stay close to a (standard normal) distribution.\n",
        "Secondly, VAEs do not produce specific codes, but rather a distribution of codes.\n",
        "In practice this is done by directly mapping inputs to the parameters of a distribution.\n",
        "\n",
        "The main advantage of this approach, is that the the distribution of the latent codes remains well under control.\n",
        "As a result, we can sample from this latent distribution and decode these sampled codes to generate new data."
      ],
      "metadata": {
        "_uuid": "6f5d3651-6c29-496b-afaf-51da8ab9ee48",
        "_cell_guid": "2668741e-6a6d-41b3-97c9-29cb3b0b1347",
        "trusted": true,
        "id": "P1PcD1lzf5Th"
      }
    },
    {
      "cell_type": "markdown",
      "source": [
        "### Exercise 5: Variational Auto-Encoder\n",
        "\n",
        "VAEs predict the distribution parameters of the latent space,\n",
        "rather than a specific code in the latent space.\n",
        "In the case of a Gaussian latent distribution,\n",
        "this means that the encoder produces a mean and log-variance for every input sample.\n",
        "By predicting the log-variance, the variance is guaranteed to be positive.\n",
        "\n",
        "Because the codes of a VAE are distributions, it is not possible to directly decode them back to images.\n",
        "Instead, specific codes have to be sampled from the latent distribution before decoding.\n",
        "This is the main difference, architecturally, between AEs and VAEs.\n",
        "The main difference during training is the regularisation.\n",
        "This is what makes VAEs especially interesting for generating new images.\n",
        "\n",
        " > Implement the `VariationalAutoEncoder` class.\n",
        " > The `sample` method should sample a latent vector from a Gaussian with given mean and log-variance.\n",
        " > Note that the `sample` method for a VAE must be differentiable!\n",
        " > In addition to the regular output,\n",
        " > the `forward` method should also return the distribution parameters.\n",
        " > These can then be used to compute the regularisation loss,\n",
        " > which should be implemented in the `regularisation` method."
      ],
      "metadata": {
        "_uuid": "f52dda0b-7dbe-4501-adc6-c2fb910d1392",
        "_cell_guid": "bce173b2-e5c5-4ace-9496-14efcdadd154",
        "tags": [],
        "trusted": true,
        "id": "B9Atyubgf5Ti"
      }
    },
    {
      "cell_type": "code",
      "source": [
        "class VariationalAutoEncoder(nn.Module):\n",
        "    \"\"\" Variational auto-encoder with standard normal prior. \"\"\"\n",
        "\n",
        "    @staticmethod\n",
        "    def sample(mean: torch.Tensor, log_var: torch.Tensor):\n",
        "        \"\"\"\n",
        "        Sample randomly from the latent space in a differentiable manner.\n",
        "\n",
        "        Parameters\n",
        "        ----------\n",
        "        mean : (N, code_features) Tensor\n",
        "            Mean(s) for sampling new images.\n",
        "        log_var : (N, code_features) Tensor\n",
        "            Logarithm of variance(s) for sampling new images.\n",
        "\n",
        "        Returns\n",
        "        -------\n",
        "        sample : (N, code_features) Tensor\n",
        "            The randomly generated sample in latent space.\n",
        "        \"\"\"\n",
        "        std = torch.exp(0.5 * log_var)\n",
        "        eps = torch.randn_like(std)\n",
        "        return mean + eps * std\n",
        "\n",
        "    @staticmethod\n",
        "    def regularisation(parameters: tuple[torch.Tensor, torch.Tensor]):\n",
        "        \"\"\"\n",
        "        Compute regularisation loss.\n",
        "\n",
        "        Parameters\n",
        "        ----------\n",
        "        parameters : (Tensor, Tensor)\n",
        "            Mean and log_var predictions from forward pass.\n",
        "\n",
        "        Returns\n",
        "        -------\n",
        "        kl_div : Tensor\n",
        "            The Kullback-Leibler divergence between a standard normal\n",
        "            and the Gaussian distribution specified by `parameters`.\n",
        "        \"\"\"\n",
        "        mean, log_var = parameters\n",
        "        kl_div = -0.5 * torch.sum(1 + log_var - mean.pow(2) - log_var.exp())\n",
        "        return kl_div\n",
        "\n",
        "    def __init__(self, encoder: nn.Module, decoder: nn.Module,\n",
        "                 assumption: str = None):\n",
        "        super().__init__()\n",
        "        self.assumption = assumption\n",
        "        self.encoder = encoder\n",
        "        self.decoder = decoder\n",
        "\n",
        "    def forward(self, x: torch.Tensor):\n",
        "        \"\"\"\n",
        "        Parameters\n",
        "        ----------\n",
        "        x : torch.Tensor\n",
        "            The inputs to the forward pass.\n",
        "\n",
        "        Returns\n",
        "        -------\n",
        "        y : torch.Tensor\n",
        "            The logits computed from `x`\n",
        "        parameters : tuple of torch.Tensor\n",
        "            The parameters for the latent distribution.\n",
        "            This is used to compute the regularisation.\n",
        "        \"\"\"\n",
        "        encoded = self.encoder(x)\n",
        "        mean, log_var = encoded[:, :encoded.shape[1] // 2], encoded[:, encoded.shape[1] // 2:]\n",
        "        z = self.sample(mean, log_var)\n",
        "        y = self.decoder(z)\n",
        "        return y, (mean, log_var)\n",
        "\n",
        "    @torch.no_grad()\n",
        "    def generate(self, mean: torch.Tensor, log_var: torch.Tensor = None,\n",
        "                 y_range: tuple[float, float] = None) -> torch.Tensor:\n",
        "        \"\"\"\n",
        "        Generate one or more new images.\n",
        "\n",
        "        Parameters\n",
        "        ----------\n",
        "        mean : (N, code_features) Tensor\n",
        "            Mean in latent space for generating images.\n",
        "        log_var : (N, code_features) Tensor, optional\n",
        "            Logarithm of variance(s) in latent space for generating images.\n",
        "        y_range : tuple of float, optional\n",
        "            Range of pixel intensities in the generated images.\n",
        "\n",
        "        Returns\n",
        "        -------\n",
        "        img : (N, in_features) Tensor\n",
        "            Image with the same dimensions as the inputs\n",
        "            and pixel intensities in [0, 1].\n",
        "\n",
        "        See Also\n",
        "        --------\n",
        "        `sample(mean, log_var)` : sample randomly in latent space.\n",
        "        \"\"\"\n",
        "        if log_var is None:\n",
        "            log_var = torch.zeros_like(mean)  # Assuming log_var is zeros by default\n",
        "        device = next(self.encoder.parameters()).device\n",
        "        mean = mean.to(device)\n",
        "        log_var = log_var.to(device)\n",
        "        z = self.sample(mean, log_var)\n",
        "        logits = self.decoder(z)\n",
        "        return torch.sigmoid(logits)\n",
        "\n",
        "    @torch.no_grad()\n",
        "    def reconstruct(self, x):\n",
        "        \"\"\" Reconstruct inputs to proper images. \"\"\"\n",
        "        logits, _ = self.forward(x)\n",
        "        # Assuming logits are intensities, clip them to [0, 1] range\n",
        "        reconstructions = torch.clamp(logits, 0, 1)\n",
        "        return reconstructions\n"
      ],
      "metadata": {
        "_uuid": "1e87ed48-3fd1-40b8-b672-29eeef8988b5",
        "_cell_guid": "aa699a05-1578-4965-8ff6-9f7902ebf9ca",
        "deletable": false,
        "nbgrader": {
          "cell_type": "code",
          "checksum": "0a10bc39ee1564ad136f7f81142aa3d4",
          "grade": false,
          "grade_id": "cell-b05bd9cbbe066071",
          "locked": false,
          "schema_version": 3,
          "solution": true,
          "task": false
        },
        "tags": [],
        "jupyter": {
          "outputs_hidden": false
        },
        "execution": {
          "iopub.status.busy": "2024-04-27T21:13:22.005628Z",
          "iopub.execute_input": "2024-04-27T21:13:22.006128Z",
          "iopub.status.idle": "2024-04-27T21:13:22.021457Z",
          "shell.execute_reply.started": "2024-04-27T21:13:22.006087Z",
          "shell.execute_reply": "2024-04-27T21:13:22.020459Z"
        },
        "trusted": true,
        "id": "v89Gr5u0f5Ti"
      },
      "execution_count": null,
      "outputs": []
    },
    {
      "cell_type": "code",
      "source": [
        "mean, log_var = torch.ones(1024, 10), torch.zeros(1024, 10)\n",
        "z = VariationalAutoEncoder.sample(mean, log_var)\n",
        "assert z.shape == mean.shape, (\n",
        "    \"ex5: incorrect shape for sampled VAE latents (-1 point)\"\n",
        ")\n",
        "assert torch.allclose(z.mean(0), torch.ones(1), atol=1e-1), (\n",
        "    \"ex5: incorrect mean for sampled VAE latents: \"\n",
        "    f\"'{z.mean(0).abs().max().item():.3f}' (-1 point)\"\n",
        ")"
      ],
      "metadata": {
        "_uuid": "dcafb984-e7b1-48eb-94d5-a13a0c62c31e",
        "_cell_guid": "bdb6426b-caa6-412b-9d6f-a76009ca9427",
        "deletable": false,
        "nbgrader": {
          "cell_type": "code",
          "checksum": "fbdff66723579226af3acc4a5ac3ba7c",
          "grade": true,
          "grade_id": "cell-65731bfe7f8f0679",
          "locked": true,
          "points": 1,
          "schema_version": 3,
          "solution": false,
          "task": false
        },
        "tags": [],
        "jupyter": {
          "outputs_hidden": false
        },
        "execution": {
          "iopub.status.busy": "2024-04-27T21:13:24.032263Z",
          "iopub.execute_input": "2024-04-27T21:13:24.032656Z",
          "iopub.status.idle": "2024-04-27T21:13:24.040794Z",
          "shell.execute_reply.started": "2024-04-27T21:13:24.032603Z",
          "shell.execute_reply": "2024-04-27T21:13:24.039903Z"
        },
        "trusted": true,
        "id": "JgJBPDXff5Ti"
      },
      "execution_count": null,
      "outputs": []
    },
    {
      "cell_type": "code",
      "source": [
        "mean = torch.zeros(1024, 10).requires_grad_(True)\n",
        "log_var = torch.zeros(1024, 10).requires_grad_(True)\n",
        "z = VariationalAutoEncoder.sample(mean, log_var)\n",
        "assert z.requires_grad, (\n",
        "    \"ex5: reparameterisation trick not (correctly) implemented (-2 points)\"\n",
        ")"
      ],
      "metadata": {
        "_uuid": "cdd6b1ac-324c-4b59-8466-7b23ee4a1e2a",
        "_cell_guid": "b10133f2-6c5f-4cbf-a4b8-9655fe5370ed",
        "deletable": false,
        "nbgrader": {
          "cell_type": "code",
          "checksum": "d5d5f98100b20b407fe0273bf95ac487",
          "grade": true,
          "grade_id": "cell-25bdf92c81e34301",
          "locked": true,
          "points": 2,
          "schema_version": 3,
          "solution": false,
          "task": false
        },
        "tags": [],
        "jupyter": {
          "outputs_hidden": false
        },
        "execution": {
          "iopub.status.busy": "2024-04-27T21:13:25.149932Z",
          "iopub.execute_input": "2024-04-27T21:13:25.150569Z",
          "iopub.status.idle": "2024-04-27T21:13:25.157196Z",
          "shell.execute_reply.started": "2024-04-27T21:13:25.150536Z",
          "shell.execute_reply": "2024-04-27T21:13:25.156084Z"
        },
        "trusted": true,
        "id": "uf4Em3gYf5Tj"
      },
      "execution_count": null,
      "outputs": []
    },
    {
      "cell_type": "code",
      "source": [
        "mean, log_var = torch.zeros(1, 10), torch.zeros(1, 10)\n",
        "reg = VariationalAutoEncoder.regularisation((mean, log_var))\n",
        "assert torch.allclose(reg, torch.zeros(1)), (\n",
        "    \"ex5: VAE regulariser for perfect parameters is not zero (-1 point)\"\n",
        ")\n",
        "\n",
        "reg = VariationalAutoEncoder.regularisation((mean + 1, log_var))\n",
        "assert torch.allclose(reg, 5 * torch.ones(1)), (\n",
        "    \"ex5: VAE regulariser for parameters with shifted mean is wrong: \"\n",
        "    f\"'{reg.item():.3f}' != 5.0 (-1 point)\"\n",
        ")"
      ],
      "metadata": {
        "_uuid": "b6333f56-83a5-42e3-be81-59be553c54e7",
        "_cell_guid": "cb957a58-5601-4088-8c05-2bdab9d31317",
        "deletable": false,
        "nbgrader": {
          "cell_type": "code",
          "checksum": "90f203882f14e5ebf6d11e7c382a0255",
          "grade": true,
          "grade_id": "cell-39965169b6b1d413",
          "locked": true,
          "points": 1,
          "schema_version": 3,
          "solution": false,
          "task": false
        },
        "tags": [],
        "jupyter": {
          "outputs_hidden": false
        },
        "execution": {
          "iopub.status.busy": "2024-04-27T21:13:26.464103Z",
          "iopub.execute_input": "2024-04-27T21:13:26.464954Z",
          "iopub.status.idle": "2024-04-27T21:13:26.471957Z",
          "shell.execute_reply.started": "2024-04-27T21:13:26.464919Z",
          "shell.execute_reply": "2024-04-27T21:13:26.470971Z"
        },
        "trusted": true,
        "id": "sMRyFRMAf5Tj"
      },
      "execution_count": null,
      "outputs": []
    },
    {
      "cell_type": "code",
      "source": [
        "vae = VariationalAutoEncoder(\n",
        "    encoder=nn.Sequential(\n",
        "        nn.Linear(784, 400), nn.ELU(), nn.Linear(400, 20)\n",
        "    ), decoder=nn.Sequential(\n",
        "        nn.ELU(), nn.Linear(10, 400), nn.ELU(), nn.Linear(400, 784)\n",
        "    )\n",
        ")\n",
        "\n",
        "x = torch.ones(1, 784)\n",
        "y, pars = vae(x)\n",
        "assert y.shape == x.shape, (\n",
        "    f\"ex5: reconstructed input has different shape: {tuple(y.shape)} (-0.5 points)\"\n",
        ")\n",
        "assert pars[0].shape == pars[1].shape, (\n",
        "    f\"ex5: latent distribution parameters have different shapes (-0.5 points)\"\n",
        ")"
      ],
      "metadata": {
        "_uuid": "40ecaf19-d411-4c0a-80e9-a499492e13e5",
        "_cell_guid": "80b326e8-2129-4637-b993-d7eadf8d484a",
        "deletable": false,
        "nbgrader": {
          "cell_type": "code",
          "checksum": "e0252f7040fb72d3ef516befd7f8aa08",
          "grade": true,
          "grade_id": "cell-741beeb4f3838d26",
          "locked": true,
          "points": 0.5,
          "schema_version": 3,
          "solution": false,
          "task": false
        },
        "tags": [],
        "jupyter": {
          "outputs_hidden": false
        },
        "execution": {
          "iopub.status.busy": "2024-04-27T21:13:27.925821Z",
          "iopub.execute_input": "2024-04-27T21:13:27.926509Z",
          "iopub.status.idle": "2024-04-27T21:13:27.941752Z",
          "shell.execute_reply.started": "2024-04-27T21:13:27.926479Z",
          "shell.execute_reply": "2024-04-27T21:13:27.940858Z"
        },
        "trusted": true,
        "id": "LMECZrZrf5Tj"
      },
      "execution_count": null,
      "outputs": []
    },
    {
      "cell_type": "code",
      "source": [
        "x = torch.ones(1, 784)\n",
        "y1, _ = vae(x)\n",
        "y2, _ = vae(x)\n",
        "assert not torch.allclose(y1, y2), (\n",
        "    f\"ex5: forward pass seems to be deterministic (-0.5 points)\"\n",
        ")"
      ],
      "metadata": {
        "_uuid": "9810a1a8-8467-4855-9ef5-6aed70b40539",
        "_cell_guid": "721f11c6-c1fb-4c51-9ba4-8ee690b799fd",
        "deletable": false,
        "nbgrader": {
          "cell_type": "code",
          "checksum": "cf9e63ae63874283c7cf2bcfe88e1de1",
          "grade": true,
          "grade_id": "cell-fe1614a3ce86818e",
          "locked": true,
          "points": 0.5,
          "schema_version": 3,
          "solution": false,
          "task": false
        },
        "tags": [],
        "jupyter": {
          "outputs_hidden": false
        },
        "execution": {
          "iopub.status.busy": "2024-04-27T21:13:29.190466Z",
          "iopub.execute_input": "2024-04-27T21:13:29.191172Z",
          "iopub.status.idle": "2024-04-27T21:13:29.199463Z",
          "shell.execute_reply.started": "2024-04-27T21:13:29.191136Z",
          "shell.execute_reply": "2024-04-27T21:13:29.19848Z"
        },
        "trusted": true,
        "id": "h-SjdWpwf5Tk"
      },
      "execution_count": null,
      "outputs": []
    },
    {
      "cell_type": "markdown",
      "source": [
        "### Exercise 6: Balance\n",
        "\n",
        "In order to incorporate the regularisation loss in our trainer,\n",
        "I provided a (hacky) loss function wrapper: `RegularisedLoss`.\n",
        "This wrapper makes it possible to observe the original loss\n",
        "together with the regularisation loss.\n",
        "This will be useful because regularisation is always a balancing act.\n",
        "Therefore, the goal of this final exercise is to train the VAE\n",
        "in such a way that reconstruction and regularisation losses are balanced.\n",
        "\n",
        " > Train the variational auto-encoder with the regularised loss.\n",
        " > You can copy your reconstruction assumptions and loss function\n",
        " > from the auto-encoder exercise (they are not graded twice).\n",
        " > The key will be to find a reasonable value for the weight!"
      ],
      "metadata": {
        "_uuid": "4e6f609c-9d9c-4111-a5b1-eba9fe3de34e",
        "_cell_guid": "4c3f2893-a1d0-416d-a9ec-198017eaf392",
        "trusted": true,
        "id": "qUHxCEu7f5Tk"
      }
    },
    {
      "cell_type": "code",
      "source": [
        "# Set up VAE architecture\n",
        "vae = VariationalAutoEncoder(\n",
        "    encoder=nn.Sequential(\n",
        "        nn.Flatten(), nn.Linear(784, 400),\n",
        "        nn.ELU(), nn.Linear(400, 40),\n",
        "    ),\n",
        "    decoder=nn.Sequential(\n",
        "        nn.ELU(), nn.Linear(20, 400),\n",
        "        nn.ELU(), nn.Linear(400, 784),\n",
        "        nn.Unflatten(1, (1, 28, 28)),\n",
        "    ),\n",
        "    assumption=None\n",
        ").to(device)\n",
        "\n",
        "# Define reconstruction assumption and regularized loss function\n",
        "assumption = None  # You may need to specify a reconstruction assumption here\n",
        "loss_func = nn.MSELoss()  # Use Mean Squared Error Loss for reconstruction\n",
        "\n",
        "# Define regularized loss function wrapper\n",
        "regularised_loss = RegularisedLoss(loss_func, vae.regularisation, weight=0.)\n",
        "\n",
        "# Define AutoEncoderTrainer\n",
        "trainer = AutoEncoderTrainer(\n",
        "    model=vae,\n",
        "    criterion=regularised_loss,\n",
        "    optimiser=optim.Adamax(vae.parameters()),\n",
        ")\n",
        "\n",
        "# Train the VAE with regularized loss function\n",
        "# Set the weight of the regularization term\n",
        "regularised_loss.weight = 0.1"
      ],
      "metadata": {
        "_uuid": "f5a679a0-fc72-4eae-bb6d-6e95c19c7920",
        "_cell_guid": "99930061-c92f-44b8-90a5-d8e322c9756a",
        "deletable": false,
        "nbgrader": {
          "cell_type": "code",
          "checksum": "4fb9c21583475c6da14c6d1a4810a506",
          "grade": false,
          "grade_id": "cell-59b997323fdb4e3d",
          "locked": false,
          "schema_version": 3,
          "solution": true,
          "task": false
        },
        "tags": [],
        "jupyter": {
          "outputs_hidden": false
        },
        "execution": {
          "iopub.status.busy": "2024-04-27T21:13:31.728447Z",
          "iopub.execute_input": "2024-04-27T21:13:31.72922Z",
          "iopub.status.idle": "2024-04-27T21:13:31.747733Z",
          "shell.execute_reply.started": "2024-04-27T21:13:31.729187Z",
          "shell.execute_reply": "2024-04-27T21:13:31.746808Z"
        },
        "trusted": true,
        "id": "_y-SgXg-f5Tk"
      },
      "execution_count": null,
      "outputs": []
    },
    {
      "cell_type": "code",
      "source": [
        "assert regularised_loss.weight > 0, (\n",
        "    \"ex6: zero weight corresponds to AE training (-1 point)\"\n",
        ")"
      ],
      "metadata": {
        "_uuid": "c2699c02-36a1-45b0-b69c-3651d0ea965e",
        "_cell_guid": "90c65042-5901-4652-9bd1-056ee7844ea2",
        "deletable": false,
        "nbgrader": {
          "cell_type": "code",
          "checksum": "84d3858579821c0e05b9f56f6a18a4c1",
          "grade": true,
          "grade_id": "cell-78c32744cd767a94",
          "locked": true,
          "points": 1,
          "schema_version": 3,
          "solution": false,
          "task": false
        },
        "tags": [],
        "jupyter": {
          "outputs_hidden": false
        },
        "execution": {
          "iopub.status.busy": "2024-04-27T21:13:33.523878Z",
          "iopub.execute_input": "2024-04-27T21:13:33.524741Z",
          "iopub.status.idle": "2024-04-27T21:13:33.52884Z",
          "shell.execute_reply.started": "2024-04-27T21:13:33.52471Z",
          "shell.execute_reply": "2024-04-27T21:13:33.527815Z"
        },
        "trusted": true,
        "id": "wCI2Ryngf5Tk"
      },
      "execution_count": null,
      "outputs": []
    },
    {
      "cell_type": "code",
      "source": [
        "# sanity check\n",
        "loader = DataLoader(data, batch_size=256, shuffle=True, num_workers=4)\n",
        "trainer.train(loader, num_epochs=10)"
      ],
      "metadata": {
        "_uuid": "28a26695-37f1-456b-bf12-5350233dde77",
        "_cell_guid": "e99802bb-73a2-4982-8504-5b0cb5ef9264",
        "tags": [
          "skip-execution"
        ],
        "jupyter": {
          "outputs_hidden": false
        },
        "execution": {
          "iopub.status.busy": "2024-04-27T21:13:34.705798Z",
          "iopub.execute_input": "2024-04-27T21:13:34.706132Z",
          "iopub.status.idle": "2024-04-27T21:15:31.728323Z",
          "shell.execute_reply.started": "2024-04-27T21:13:34.706108Z",
          "shell.execute_reply": "2024-04-27T21:15:31.727232Z"
        },
        "trusted": true,
        "id": "6QRBNiqtf5Tl",
        "outputId": "9579b6d7-c056-4be9-a537-e02d5741a1d5"
      },
      "execution_count": null,
      "outputs": [
        {
          "name": "stdout",
          "text": "Epoch  0 - avg loss: 27.415299 (rec: 1.0621, reg: 263.5319)\n",
          "output_type": "stream"
        },
        {
          "output_type": "display_data",
          "data": {
            "text/plain": "<PIL.Image.Image image mode=L size=280x56>",
            "image/png": "[encoded data removed]"
          },
          "metadata": {
            "width": "100%"
          }
        },
        {
          "name": "stdout",
          "text": "Epoch  0 - avg loss: 4.853922 (rec: 0.7227, reg: 41.3121)\nEpoch  0 - avg loss: 1.168315 (rec: 0.7107, reg: 4.5762)\nEpoch  0 - avg loss: 0.986170 (rec: 0.7107, reg: 2.7549)\nEpoch  0 - avg loss: 0.893321 (rec: 0.7107, reg: 1.8265)\nEpoch  0 - avg loss: 0.837964 (rec: 0.7106, reg: 1.2732)\n",
          "output_type": "stream"
        },
        {
          "output_type": "display_data",
          "data": {
            "text/plain": "<PIL.Image.Image image mode=L size=280x56>",
            "image/png": "[encoded data removed]"
          },
          "metadata": {
            "width": "100%"
          }
        },
        {
          "name": "stdout",
          "text": "Epoch  0 - avg loss: 0.801782 (rec: 0.7104, reg: 0.9133)\nEpoch  0 - avg loss: 0.777804 (rec: 0.7104, reg: 0.6737)\nEpoch  0 - avg loss: 0.761609 (rec: 0.7104, reg: 0.5119)\nEpoch  0 - avg loss: 0.751300 (rec: 0.7103, reg: 0.4103)\nEpoch  0 - avg loss: 0.744253 (rec: 0.7102, reg: 0.3408)\n",
          "output_type": "stream"
        },
        {
          "output_type": "display_data",
          "data": {
            "text/plain": "<PIL.Image.Image image mode=L size=280x56>",
            "image/png": "[encoded data removed]"
          },
          "metadata": {
            "width": "100%"
          }
        }
      ]
    },
    {
      "cell_type": "code",
      "source": [
        "mean = torch.zeros(10, 20).to(device)\n",
        "log_var = torch.zeros(10, 20).to(device)  # You can adjust log_var according to your requirements\n",
        "out1 = data_to_image(*vae.generate(mean, log_var))\n",
        "out2 = data_to_image(*vae.generate(mean, log_var))\n",
        "out3 = data_to_image(*vae.generate(mean, log_var))\n"
      ],
      "metadata": {
        "_uuid": "1a391fdc-e4c2-41d8-8939-5fef66db9119",
        "_cell_guid": "4ac7d942-b94f-4132-9e29-c5bd6023d926",
        "jupyter": {
          "outputs_hidden": false
        },
        "execution": {
          "iopub.status.busy": "2024-04-27T21:15:31.730589Z",
          "iopub.execute_input": "2024-04-27T21:15:31.731266Z",
          "iopub.status.idle": "2024-04-27T21:15:31.775317Z",
          "shell.execute_reply.started": "2024-04-27T21:15:31.731224Z",
          "shell.execute_reply": "2024-04-27T21:15:31.774546Z"
        },
        "trusted": true,
        "id": "i35MmXi4f5Tl"
      },
      "execution_count": null,
      "outputs": []
    }
  ]
}